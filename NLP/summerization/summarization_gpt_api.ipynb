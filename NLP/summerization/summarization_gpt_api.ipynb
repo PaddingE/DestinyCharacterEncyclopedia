{
 "cells": [
  {
   "cell_type": "code",
   "execution_count": 1,
   "metadata": {},
   "outputs": [
    {
     "name": "stdout",
     "output_type": "stream",
     "text": [
      "Collecting openai\n",
      "  Downloading openai-0.27.8-py3-none-any.whl (73 kB)\n",
      "                                              0.0/73.6 kB ? eta -:--:--\n",
      "     ----------------                         30.7/73.6 kB 1.3 MB/s eta 0:00:01\n",
      "     ---------------------------------------- 73.6/73.6 kB 1.0 MB/s eta 0:00:00\n",
      "Requirement already satisfied: requests>=2.20 in c:\\anaconda\\envs\\py3.8\\lib\\site-packages (from openai) (2.31.0)\n",
      "Collecting tqdm (from openai)\n",
      "  Downloading tqdm-4.66.1-py3-none-any.whl (78 kB)\n",
      "                                              0.0/78.3 kB ? eta -:--:--\n",
      "     ---------------------------------------- 78.3/78.3 kB 4.3 MB/s eta 0:00:00\n",
      "Collecting aiohttp (from openai)\n",
      "  Downloading aiohttp-3.8.5-cp38-cp38-win_amd64.whl (327 kB)\n",
      "                                              0.0/327.9 kB ? eta -:--:--\n",
      "     ------------------------------------- 327.9/327.9 kB 19.9 MB/s eta 0:00:00\n",
      "Requirement already satisfied: charset-normalizer<4,>=2 in c:\\anaconda\\envs\\py3.8\\lib\\site-packages (from requests>=2.20->openai) (3.2.0)\n",
      "Requirement already satisfied: idna<4,>=2.5 in c:\\anaconda\\envs\\py3.8\\lib\\site-packages (from requests>=2.20->openai) (3.4)\n",
      "Requirement already satisfied: urllib3<3,>=1.21.1 in c:\\anaconda\\envs\\py3.8\\lib\\site-packages (from requests>=2.20->openai) (2.0.4)\n",
      "Requirement already satisfied: certifi>=2017.4.17 in c:\\anaconda\\envs\\py3.8\\lib\\site-packages (from requests>=2.20->openai) (2023.7.22)\n",
      "Collecting attrs>=17.3.0 (from aiohttp->openai)\n",
      "  Using cached attrs-23.1.0-py3-none-any.whl (61 kB)\n",
      "Collecting multidict<7.0,>=4.5 (from aiohttp->openai)\n",
      "  Downloading multidict-6.0.4-cp38-cp38-win_amd64.whl (28 kB)\n",
      "Collecting async-timeout<5.0,>=4.0.0a3 (from aiohttp->openai)\n",
      "  Downloading async_timeout-4.0.3-py3-none-any.whl (5.7 kB)\n",
      "Collecting yarl<2.0,>=1.0 (from aiohttp->openai)\n",
      "  Downloading yarl-1.9.2-cp38-cp38-win_amd64.whl (61 kB)\n",
      "                                              0.0/61.8 kB ? eta -:--:--\n",
      "     ---------------------------------------- 61.8/61.8 kB ? eta 0:00:00\n",
      "Collecting frozenlist>=1.1.1 (from aiohttp->openai)\n",
      "  Downloading frozenlist-1.4.0-cp38-cp38-win_amd64.whl (44 kB)\n",
      "                                              0.0/44.7 kB ? eta -:--:--\n",
      "     ---------------------------------------- 44.7/44.7 kB ? eta 0:00:00\n",
      "Collecting aiosignal>=1.1.2 (from aiohttp->openai)\n",
      "  Downloading aiosignal-1.3.1-py3-none-any.whl (7.6 kB)\n",
      "Requirement already satisfied: colorama in c:\\anaconda\\envs\\py3.8\\lib\\site-packages (from tqdm->openai) (0.4.6)\n",
      "Installing collected packages: tqdm, multidict, frozenlist, attrs, async-timeout, yarl, aiosignal, aiohttp, openai\n",
      "Successfully installed aiohttp-3.8.5 aiosignal-1.3.1 async-timeout-4.0.3 attrs-23.1.0 frozenlist-1.4.0 multidict-6.0.4 openai-0.27.8 tqdm-4.66.1 yarl-1.9.2\n",
      "Note: you may need to restart the kernel to use updated packages.\n"
     ]
    },
    {
     "name": "stderr",
     "output_type": "stream",
     "text": [
      "  WARNING: The script tqdm.exe is installed in 'c:\\anaconda\\envs\\py3.8\\Scripts' which is not on PATH.\n",
      "  Consider adding this directory to PATH or, if you prefer to suppress this warning, use --no-warn-script-location.\n",
      "  WARNING: The script openai.exe is installed in 'c:\\anaconda\\envs\\py3.8\\Scripts' which is not on PATH.\n",
      "  Consider adding this directory to PATH or, if you prefer to suppress this warning, use --no-warn-script-location.\n"
     ]
    }
   ],
   "source": [
    "# pip install openai"
   ]
  },
  {
   "cell_type": "code",
   "execution_count": 8,
   "metadata": {},
   "outputs": [
    {
     "name": "stdout",
     "output_type": "stream",
     "text": [
      "Requirement already satisfied: tiktoken in c:\\anaconda\\envs\\py3.8\\lib\\site-packages (0.4.0)\n",
      "Requirement already satisfied: regex>=2022.1.18 in c:\\anaconda\\envs\\py3.8\\lib\\site-packages (from tiktoken) (2023.8.8)\n",
      "Requirement already satisfied: requests>=2.26.0 in c:\\anaconda\\envs\\py3.8\\lib\\site-packages (from tiktoken) (2.31.0)\n",
      "Requirement already satisfied: charset-normalizer<4,>=2 in c:\\anaconda\\envs\\py3.8\\lib\\site-packages (from requests>=2.26.0->tiktoken) (3.2.0)\n",
      "Requirement already satisfied: idna<4,>=2.5 in c:\\anaconda\\envs\\py3.8\\lib\\site-packages (from requests>=2.26.0->tiktoken) (3.4)\n",
      "Requirement already satisfied: urllib3<3,>=1.21.1 in c:\\anaconda\\envs\\py3.8\\lib\\site-packages (from requests>=2.26.0->tiktoken) (2.0.4)\n",
      "Requirement already satisfied: certifi>=2017.4.17 in c:\\anaconda\\envs\\py3.8\\lib\\site-packages (from requests>=2.26.0->tiktoken) (2023.7.22)\n",
      "Note: you may need to restart the kernel to use updated packages.\n"
     ]
    }
   ],
   "source": [
    "# pip install tiktoken"
   ]
  },
  {
   "cell_type": "code",
   "execution_count": 1,
   "metadata": {},
   "outputs": [],
   "source": [
    "import os\n",
    "import openai\n",
    "\n",
    "openai.api_key = \"USE_YOUR_API_KEY\"\n",
    "\n"
   ]
  },
  {
   "cell_type": "code",
   "execution_count": 2,
   "metadata": {},
   "outputs": [],
   "source": [
    "prompt = \"\"\"\n",
    "Please summarize the following text :A compact submersible of Eliksni design finishes its descent through the hazy depths of Titan\\'s methane ocean. The craft\\'s seafloor landing kicks up a cloud of dark silt and microbial life shimmering like stars. The submersible\\'s dorsal airlock cracks open with a rush of bubbles, then slowly folds down into a ramp, allowing a trio of figures armored in deep diving gear to emerge. The submersible\\'s single floodlight sweeps across the ocean floor, revealing the alien landscape of twisting coral. \\n\\nFenchurch approaches one of the coral growths, running a gloved hand over its surface. \\\"These polyps…\\\" he mutters. \\\"Is this—\\\" He stops suddenly at the sound of a mechanical snap, and turns to see Chalco and Lisbon-13 plant a large, mechanical spire in the ground. Internal lights flicker on as the spire whirrs to life, creating a regulated field of water pressure around the submersible. \\n\\nFenchurch steps away from the coral, rubbing his fingers together. He looks to the spire as its sides open like a flower and release several drones, each outfitted with floodlights. The drones swim out ahead, revealing the disorienting flicker of what looks like the water\\'s surface but at an impossibly vertical angle. \\n\\n\\\"This way,\\\" Chalco directs as she turns to follow the drones. Fenchurch and Lisbon look at one another, steady themselves, and fall in line behind their fireteam leader. \\n\\n\\\"Stop me if you\\'ve heard this one before,\\\" Fenchurch says, anxiously checking the talisman clipped to his armor. \\\"Two Hunters and a Warlock walk into the deep…\\\"\n",
    "\n",
    "Chalco Yong disappears behind the shimmering curtain of surface tension. Lisbon-13 follows without hesitation, leaving Fenchurch to stare at the vertigo-inducing, vertical plane of water. He reaches out, hesitantly touching the surface, only for Lisbon to reach back, grab him by the wrist, and yank him through. \\n\\n\\\"Everis,\\\" Lisbon mutters once he pulls Fenchurch to the other side. The Warlock doesn\\'t even realize he\\'s hyperventilating. \\\"Get it together.\\\" He gives Fenchurch a warning look, then nods at Chalco walking ahead across the maddeningly dry ground.  \\n\\nIt takes Fenchurch a moment to realize that he is not underwater anymore. Liquid methane drips off his suit and turns to ice when it hits the compacted silt. The cavernous space is suffocatingly dark. It will be hours yet before the sun rises on this section of Titan, yet the lambent shades of starlight twinkling in the void beyond fill Fenchurch with a lurching sense of dread. \\n\\nHe wants to ask, \\'Where are we?,\\' but the words fail to get past his lips. Instead, Fenchurch gathers himself and joins Chalco at her side. \\n\\nChalco raises her hand, and three drones come to heel behind her. \\\"We are the only extant team of Hidden to visit this site.\\\" She sends the drones up into the air with a wave. \\\"What you are about to see is not to be discussed outside of official reports.\\\" \\n\\nFenchurch takes a step forward, squinting against the dark, until the drones sweep the terrain with their floodlights. Then, as the alien landscape comes into sharp focus, one word finally escapes his lips: \\n\\n\\\"Oryx.\\\"\n",
    "\n",
    "ACCESS: RESTRICTED \\nDECRYPTION KEY: LKV4PSM6ZQ$FEN-092 \\nREP #: 003-TAKEN-156 \\nAGENT(S): FEN-092 \\nSUBJ: TKO-300 Analysis Notes \\n\\nSpectrological analysis indicates concentration of Taken energy within the cellular structure of subject\\'s remains. Resonance indicative of active Darkness presence lacking both direction and willpower.  \\n\\nCellular analysis indicates slow but active mitosis, explaining the exaggerated size of the remains when compared to the subject\\'s last known physical dimensions. The mind is gone, but the body continues to grow. \\n\\nComparative analysis to samples with remains of subject WQS-030 do not match. WQS-030 shows no sign of mitosis. May be a compounding effect from worm severance and exposure to Light. \\n\\nAutopsy revealed no presence of worm carcass within TKO-300 remains. Status unknown. \\n\\nProlonged exposure to TKO-300 causes vivid audio-visual hallucinations due to combined exposure to Taken and Darkness energies. ERI-223 notes similarities to object of interest COS-030. \\n\\nCatalogued recollections from initial Guardian fireteam exposed to site indicate WGX-003 frequently visited the remains to grieve. TKO-300 is capable of absorbing knowledge and events but incapable of reacting to them.  \\n\\nIt is my professional recommendation that the remains of TKO-300 should be destroyed. It poses a threat to the safety of humanity far outweighing any potential knowledge value. \\n\\nMESSAGE ENDS \\n\\nACCESS: RESTRICTED \\nDECRYPTION KEY: MNXF8WTV9K$CHA-319 \\nREP #: 003-TAKEN-156 \\nAGENT(S): CHA-319 \\nSUBJ: FW: TKO-300 Analysis Notes \\n\\nAttached to FEN-092\\'s analysis are quarantine recommendations from ERI-223 and my own analysis of object NEV-000 for comparison to TKO-300. \\n\\nMy recommendation is as follows: reclassify POIs to segment queries, quarantine remains to off-site location, and limit direct exposure to frames and mechanical intelligence. There is too much of value here to simply throw away. \\n\\nMESSAGE ENDS\n",
    "\n",
    "\\\"Keep this talisman on you at all times.\\\" \\n\\nBlack, glossy, and in the right light, the talisman has a rainbow iridescence. It reminds Fenchurch of hematite pearls from the Bay of Drowned Wishes. He rolls it in his hand, looking up at Chalco to see the creases of worry in her brow. \\n\\nFenchurch clips the talisman to his jacket as the rest of his fireteam has. \\\"What\\'s it do?\\\" \\n\\n\\\"If it glows white, stay where you are and call out,\\\" Chalco explains, choosing her words carefully all while avoiding Fenchurch\\'s gaze. \\\"If you experience any memory loss or sense of déjà vu, call out.\\\" A silence falls over her fireteam. Palpable tension fills the cabin as they feel the craft begin to descend. \\n\\n\\\"If you see anyone at the operation site that you do not recognize, call out.\\\" Chalco continues, occasionally steadying herself with a hand on the cabin ceiling as the submersible pitches and yaws in the disruptive currents. \\\"If you experience any out-of-body sensations or missing time, call out.\\\" \\n\\n\\\"Ma\\'am?\\\" Lisbon-13 is not afraid to interrupt Chalco. His eyes glow bright from the back of the submersible. \\\"Where are we going?\\\" \\n\\nChalco stares for a moment, squares her shoulders, and continues. \\\"If you hear a voice that you think is your own…\\\"\n",
    "\n",
    "What appeared to be a silhouette of coral growths in the dark is revealed to be the mountainous remains of Oryx, the Taken King. The Hive god\\'s immense carcass lays strewn across Titan\\'s seafloor. Both Lisbon-13 and Fenchurch are taken aback by the sight, but Chalco advances toward it. \\n\\n\\\"The Lucent Brood performed a ritual here.\\\" Chalco motions to the shattered remnants of a Hive Ghost on the ground. \\\"We believe they were trying to forcibly resurrect Oryx by combining heretical Hive necromancy with the powers of that Ghost. They were disrupted.\\\" \\n\\nLisbon steps forward, unable to look away from Oryx\\'s cadaverous face. \\\"Is that possible?\\\" \\n\\n\\\"Officially: no. Unofficially…\\\" Chalco glances at Lisbon. \\\"That\\'s what we\\'re here to investigate. The body is still… active. With Taken energy and Darkness. The Guardians who intercepted this ritual reported finding free-floating fragments of consciousness on the way to this site. Memories from the corpse.\\\" \\n\\n\\\"It\\'s alive?\\\" Fenchurch whispers, hesitant to approach Oryx\\'s remains.  \\n\\nChalco shakes her head. \\\"That\\'s unclear. We need to bring back samples for further analysis. Ikora wants this entire site quarantined and the body exhumed, pending transport to a secure location for further analysis.\\\" \\n\\nFenchurch checks his talisman. Still black. He glances between Chalco and the corpse. \\\"Are we the first team to come down here?\\\" \\n\\nChalco looks at Fenchurch, then down to the ground. Her gaze lingers there for a moment in tense silence. Finally, she fixes her gaze ahead to the corpse. \\\"We are the only extant team of Hidden to have visited this site.\\\"\n",
    "\"\"\""
   ]
  },
  {
   "cell_type": "code",
   "execution_count": 2,
   "metadata": {},
   "outputs": [],
   "source": [
    "messages = [{\"role\":\"user\",\"content\":\"Please summarize the following text\"},\n",
    "            {\"role\":\"user\",\"content\":\"A compact submersible of Eliksni design finishes its descent through the hazy depths of Titan\\'s methane ocean. The craft\\'s seafloor landing kicks up a cloud of dark silt and microbial life shimmering like stars. The submersible\\'s dorsal airlock cracks open with a rush of bubbles, then slowly folds down into a ramp, allowing a trio of figures armored in deep diving gear to emerge. The submersible\\'s single floodlight sweeps across the ocean floor, revealing the alien landscape of twisting coral. \\n\\nFenchurch approaches one of the coral growths, running a gloved hand over its surface. \\\"These polyps…\\\" he mutters. \\\"Is this—\\\" He stops suddenly at the sound of a mechanical snap, and turns to see Chalco and Lisbon-13 plant a large, mechanical spire in the ground. Internal lights flicker on as the spire whirrs to life, creating a regulated field of water pressure around the submersible. \\n\\nFenchurch steps away from the coral, rubbing his fingers together. He looks to the spire as its sides open like a flower and release several drones, each outfitted with floodlights. The drones swim out ahead, revealing the disorienting flicker of what looks like the water\\'s surface but at an impossibly vertical angle. \\n\\n\\\"This way,\\\" Chalco directs as she turns to follow the drones. Fenchurch and Lisbon look at one another, steady themselves, and fall in line behind their fireteam leader. \\n\\n\\\"Stop me if you\\'ve heard this one before,\\\" Fenchurch says, anxiously checking the talisman clipped to his armor. \\\"Two Hunters and a Warlock walk into the deep…\\\"\"},\n",
    "            {\"role\":\"user\",\"content\":\"Chalco Yong disappears behind the shimmering curtain of surface tension. Lisbon-13 follows without hesitation, leaving Fenchurch to stare at the vertigo-inducing, vertical plane of water. He reaches out, hesitantly touching the surface, only for Lisbon to reach back, grab him by the wrist, and yank him through. \\n\\n\\\"Everis,\\\" Lisbon mutters once he pulls Fenchurch to the other side. The Warlock doesn\\'t even realize he\\'s hyperventilating. \\\"Get it together.\\\" He gives Fenchurch a warning look, then nods at Chalco walking ahead across the maddeningly dry ground.  \\n\\nIt takes Fenchurch a moment to realize that he is not underwater anymore. Liquid methane drips off his suit and turns to ice when it hits the compacted silt. The cavernous space is suffocatingly dark. It will be hours yet before the sun rises on this section of Titan, yet the lambent shades of starlight twinkling in the void beyond fill Fenchurch with a lurching sense of dread. \\n\\nHe wants to ask, \\'Where are we?,\\' but the words fail to get past his lips. Instead, Fenchurch gathers himself and joins Chalco at her side. \\n\\nChalco raises her hand, and three drones come to heel behind her. \\\"We are the only extant team of Hidden to visit this site.\\\" She sends the drones up into the air with a wave. \\\"What you are about to see is not to be discussed outside of official reports.\\\" \\n\\nFenchurch takes a step forward, squinting against the dark, until the drones sweep the terrain with their floodlights. Then, as the alien landscape comes into sharp focus, one word finally escapes his lips: \\n\\n\\\"Oryx.\\\"\"},\n",
    "            {\"role\":\"user\",\"content\":\"ACCESS: RESTRICTED \\nDECRYPTION KEY: LKV4PSM6ZQ$FEN-092 \\nREP #: 003-TAKEN-156 \\nAGENT(S): FEN-092 \\nSUBJ: TKO-300 Analysis Notes \\n\\nSpectrological analysis indicates concentration of Taken energy within the cellular structure of subject\\'s remains. Resonance indicative of active Darkness presence lacking both direction and willpower.  \\n\\nCellular analysis indicates slow but active mitosis, explaining the exaggerated size of the remains when compared to the subject\\'s last known physical dimensions. The mind is gone, but the body continues to grow. \\n\\nComparative analysis to samples with remains of subject WQS-030 do not match. WQS-030 shows no sign of mitosis. May be a compounding effect from worm severance and exposure to Light. \\n\\nAutopsy revealed no presence of worm carcass within TKO-300 remains. Status unknown. \\n\\nProlonged exposure to TKO-300 causes vivid audio-visual hallucinations due to combined exposure to Taken and Darkness energies. ERI-223 notes similarities to object of interest COS-030. \\n\\nCatalogued recollections from initial Guardian fireteam exposed to site indicate WGX-003 frequently visited the remains to grieve. TKO-300 is capable of absorbing knowledge and events but incapable of reacting to them.  \\n\\nIt is my professional recommendation that the remains of TKO-300 should be destroyed. It poses a threat to the safety of humanity far outweighing any potential knowledge value. \\n\\nMESSAGE ENDS \\n\\nACCESS: RESTRICTED \\nDECRYPTION KEY: MNXF8WTV9K$CHA-319 \\nREP #: 003-TAKEN-156 \\nAGENT(S): CHA-319 \\nSUBJ: FW: TKO-300 Analysis Notes \\n\\nAttached to FEN-092\\'s analysis are quarantine recommendations from ERI-223 and my own analysis of object NEV-000 for comparison to TKO-300. \\n\\nMy recommendation is as follows: reclassify POIs to segment queries, quarantine remains to off-site location, and limit direct exposure to frames and mechanical intelligence. There is too much of value here to simply throw away. \\n\\nMESSAGE ENDS\"},\n",
    "            {\"role\":\"user\",\"content\":\"\\\"Keep this talisman on you at all times.\\\" \\n\\nBlack, glossy, and in the right light, the talisman has a rainbow iridescence. It reminds Fenchurch of hematite pearls from the Bay of Drowned Wishes. He rolls it in his hand, looking up at Chalco to see the creases of worry in her brow. \\n\\nFenchurch clips the talisman to his jacket as the rest of his fireteam has. \\\"What\\'s it do?\\\" \\n\\n\\\"If it glows white, stay where you are and call out,\\\" Chalco explains, choosing her words carefully all while avoiding Fenchurch\\'s gaze. \\\"If you experience any memory loss or sense of déjà vu, call out.\\\" A silence falls over her fireteam. Palpable tension fills the cabin as they feel the craft begin to descend. \\n\\n\\\"If you see anyone at the operation site that you do not recognize, call out.\\\" Chalco continues, occasionally steadying herself with a hand on the cabin ceiling as the submersible pitches and yaws in the disruptive currents. \\\"If you experience any out-of-body sensations or missing time, call out.\\\" \\n\\n\\\"Ma\\'am?\\\" Lisbon-13 is not afraid to interrupt Chalco. His eyes glow bright from the back of the submersible. \\\"Where are we going?\\\" \\n\\nChalco stares for a moment, squares her shoulders, and continues. \\\"If you hear a voice that you think is your own…\\\"\"},\n",
    "            {\"role\":\"user\",\"content\":\"What appeared to be a silhouette of coral growths in the dark is revealed to be the mountainous remains of Oryx, the Taken King. The Hive god\\'s immense carcass lays strewn across Titan\\'s seafloor. Both Lisbon-13 and Fenchurch are taken aback by the sight, but Chalco advances toward it. \\n\\n\\\"The Lucent Brood performed a ritual here.\\\" Chalco motions to the shattered remnants of a Hive Ghost on the ground. \\\"We believe they were trying to forcibly resurrect Oryx by combining heretical Hive necromancy with the powers of that Ghost. They were disrupted.\\\" \\n\\nLisbon steps forward, unable to look away from Oryx\\'s cadaverous face. \\\"Is that possible?\\\" \\n\\n\\\"Officially: no. Unofficially…\\\" Chalco glances at Lisbon. \\\"That\\'s what we\\'re here to investigate. The body is still… active. With Taken energy and Darkness. The Guardians who intercepted this ritual reported finding free-floating fragments of consciousness on the way to this site. Memories from the corpse.\\\" \\n\\n\\\"It\\'s alive?\\\" Fenchurch whispers, hesitant to approach Oryx\\'s remains.  \\n\\nChalco shakes her head. \\\"That\\'s unclear. We need to bring back samples for further analysis. Ikora wants this entire site quarantined and the body exhumed, pending transport to a secure location for further analysis.\\\" \\n\\nFenchurch checks his talisman. Still black. He glances between Chalco and the corpse. \\\"Are we the first team to come down here?\\\" \\n\\nChalco looks at Fenchurch, then down to the ground. Her gaze lingers there for a moment in tense silence. Finally, she fixes her gaze ahead to the corpse. \\\"We are the only extant team of Hidden to have visited this site.\\\"\"}\n",
    "            ]"
   ]
  },
  {
   "cell_type": "code",
   "execution_count": 3,
   "metadata": {},
   "outputs": [],
   "source": [
    "completion = openai.ChatCompletion.create(\n",
    "    model = 'gpt-3.5-turbo',\n",
    "    messages = messages\n",
    ")"
   ]
  },
  {
   "cell_type": "code",
   "execution_count": 5,
   "metadata": {},
   "outputs": [
    {
     "name": "stdout",
     "output_type": "stream",
     "text": [
      "[<OpenAIObject at 0x1d2765b2f40> JSON: {\n",
      "  \"index\": 0,\n",
      "  \"message\": {\n",
      "    \"role\": \"assistant\",\n",
      "    \"content\": \"A fireteam of Hidden Guardians descends into Titan's methane ocean using a submersible of Eliksni design. They discover the remains of the Taken King, Oryx, lying on the seafloor. The Hive god's body is still active with Taken energy and Darkness. The fireteam is there to investigate the possibility of Oryx's resurrection through a disrupted Hive ritual. They plan to quarantine the site and bring back samples for analysis. The team realizes they are the only ones who have visited this site so far.\"\n",
      "  },\n",
      "  \"finish_reason\": \"stop\"\n",
      "}]\n",
      "1998\n"
     ]
    }
   ],
   "source": [
    "print(completion.choices)"
   ]
  },
  {
   "cell_type": "code",
   "execution_count": null,
   "metadata": {},
   "outputs": [],
   "source": [
    "from tiktoken import Tokenizer\n",
    "\n",
    "# GPT-3 모델의 토크나이저를 만듭니다.\n",
    "tokenizer = Tokenizer()\n",
    "\n",
    "# 입력 문장과 출력 문장을 정의합니다.\n",
    "input_text = \"A group of Hidden, including Fenchurch, Lisbon-13, and Chalco, descends into Titan's methane ocean in a submersible.\"\n",
    "output_text = \"The team discovers the remains of Oryx, the Taken King, on the seafloor.\"\n",
    "\n",
    "# 입력 문장과 출력 문장의 토큰 수를 계산합니다.\n",
    "input_tokens = tokenizer.count_tokens(input_text)\n",
    "output_tokens = tokenizer.count_tokens(output_text)\n",
    "\n",
    "print(f\"Input tokens: {input_tokens}\")\n",
    "print(f\"Output tokens: {output_tokens}\")"
   ]
  },
  {
   "cell_type": "code",
   "execution_count": null,
   "metadata": {},
   "outputs": [],
   "source": [
    "import openai\n",
    "\n",
    "# 초기 텍스트 데이터와 토큰 수 초기화\n",
    "initial_prompt = \"This is the beginning of your conversation.\"\n",
    "token_count = len(openai.Tokenizer.tokenize(initial_prompt))\n",
    "\n",
    "while True:\n",
    "    user_input = input(\"You: \")\n",
    "    \n",
    "    # 토큰 개수 계산\n",
    "    input_tokens = len(openai.Tokenizer.tokenize(user_input))\n",
    "    total_tokens = token_count + input_tokens\n",
    "    \n",
    "    # 토큰 제한 확인 및 대화 초기화\n",
    "    if total_tokens > 4096:  # GPT-3.5 Turbo 모델의 토큰 제한\n",
    "        print(\"Reached token limit. Starting a new conversation.\")\n",
    "        initial_prompt = \"This is the beginning of your NEW conversation.\"\n",
    "        token_count = len(openai.Tokenizer.tokenize(initial_prompt))\n",
    "    else:\n",
    "        # 대화 내용 업데이트\n",
    "        conversation = initial_prompt + \"\\nUser: \" + user_input\n",
    "        response = openai.Completion.create(\n",
    "            engine=\"gpt-3.5-turbo\",  # GPT-3.5 Turbo 모델 엔진 선택\n",
    "            prompt=conversation\n",
    "        )\n",
    "        response_text = response.choices[0].text\n",
    "        print(\"AI:\", response_text)\n",
    "        \n",
    "        # 토큰 개수 업데이트\n",
    "        token_count += total_tokens + len(openai.Tokenizer.tokenize(response_text))\n"
   ]
  }
 ],
 "metadata": {
  "kernelspec": {
   "display_name": "Python 3",
   "language": "python",
   "name": "python3"
  },
  "language_info": {
   "codemirror_mode": {
    "name": "ipython",
    "version": 3
   },
   "file_extension": ".py",
   "mimetype": "text/x-python",
   "name": "python",
   "nbconvert_exporter": "python",
   "pygments_lexer": "ipython3",
   "version": "3.8.17"
  },
  "orig_nbformat": 4
 },
 "nbformat": 4,
 "nbformat_minor": 2
}
