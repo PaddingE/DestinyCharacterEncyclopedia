{
 "cells": [
  {
   "cell_type": "code",
   "execution_count": 2,
   "metadata": {},
   "outputs": [],
   "source": [
    "import requests\n",
    "import json"
   ]
  },
  {
   "cell_type": "code",
   "execution_count": 3,
   "metadata": {},
   "outputs": [],
   "source": [
    "CLIENT_ID = 'USE_YOUR_CLIENT_ID'\n",
    "CLIENT_SECRET = 'USE_YOUR_CLIENT_SECRET'"
   ]
  },
  {
   "cell_type": "markdown",
   "metadata": {},
   "source": [
    "https://icedhotchoco.tistory.com/entry/Papago-API"
   ]
  },
  {
   "cell_type": "code",
   "execution_count": 4,
   "metadata": {},
   "outputs": [],
   "source": [
    "text = '파이썬은 재미있습니다.'\n",
    "url = 'https://openapi.naver.com/v1/papago/n2mt'\n",
    "headers = {\n",
    "    'Content-Type': 'application/json',\n",
    "    'X-Naver-Client-Id': CLIENT_ID,\n",
    "    'X-Naver-Client-Secret': CLIENT_SECRET\n",
    "}\n",
    "data = {'source': 'ko', 'target': 'en', 'text': text}"
   ]
  },
  {
   "cell_type": "code",
   "execution_count": 5,
   "metadata": {},
   "outputs": [
    {
     "name": "stdout",
     "output_type": "stream",
     "text": [
      "<Response [200]>\n"
     ]
    }
   ],
   "source": [
    "# post 방식으로 서버 쪽으로 요청\n",
    "response = requests.post(url, json.dumps(data), headers=headers) \n",
    "print(response)   # status code : response 200번대가 나오면 성공, 400번대는 실패"
   ]
  },
  {
   "cell_type": "code",
   "execution_count": 6,
   "metadata": {},
   "outputs": [
    {
     "name": "stdout",
     "output_type": "stream",
     "text": [
      "{\"message\":{\"result\":{\"srcLangType\":\"ko\",\"tarLangType\":\"en\",\"translatedText\":\"Python is fun.\",\"engineType\":\"N2MT\"},\"@type\":\"response\",\"@service\":\"naverservice.nmt.proxy\",\"@version\":\"1.0.0\"}}\n",
      "<class 'str'>\n"
     ]
    }
   ],
   "source": [
    "print(response.text)\n",
    "print(type(response.text))\n",
    " \n",
    "# # 실행 결과\n",
    "# {\"message\":{\"result\":{\"srcLangType\":\"ko\",\"tarLangType\":\"en\",\"translatedText\":\"Python is fun.\",\"engineType\":\"N2MT\",\"pivot\":null,\"dict\":null,\"tarDict\":null},\"@type\":\"response\",\"@service\":\"naverservice.nmt.proxy\",\"@version\":\"1.0.0\"}}\n",
    "# str"
   ]
  },
  {
   "cell_type": "code",
   "execution_count": 7,
   "metadata": {},
   "outputs": [
    {
     "name": "stdout",
     "output_type": "stream",
     "text": [
      "Python is fun.\n"
     ]
    }
   ],
   "source": [
    "en_text = response.json()['message']['result']['translatedText']\n",
    "print(en_text)\n",
    " \n",
    "# # 실행 결과\n",
    "# Python is fun"
   ]
  },
  {
   "cell_type": "code",
   "execution_count": 8,
   "metadata": {},
   "outputs": [
    {
     "name": "stdout",
     "output_type": "stream",
     "text": [
      "The Papago API practice is interesting.\n"
     ]
    }
   ],
   "source": [
    "# translate 함수 선언\n",
    "def translate(text, source='ko', target='en'):\n",
    "    global CLIENT_ID, CLIENT_SECRET\n",
    "    url = 'https://openapi.naver.com/v1/papago/n2mt'\n",
    "    headers = {\n",
    "        'Content-Type': 'application/json',\n",
    "        'X-Naver-Client-Id': CLIENT_ID,\n",
    "        'X-Naver-Client-Secret': CLIENT_SECRET\n",
    "    }\n",
    "    data = {'source': 'ko', 'target': 'en', 'text': text}\n",
    "    response = requests.post(url, json.dumps(data), headers=headers)\n",
    "    return response.json()['message']['result']['translatedText']\n",
    " \n",
    " \n",
    "# 번역할 문장 입력 후 함수에 전달\n",
    "text = '파파고 API 실습이 재미있네요.'\n",
    "en_text = translate(text)\n",
    "print(en_text)"
   ]
  },
  {
   "cell_type": "markdown",
   "metadata": {},
   "source": [
    "https://developers.naver.com/docs/papago/papago-nmt-api-reference.md"
   ]
  },
  {
   "cell_type": "code",
   "execution_count": 9,
   "metadata": {},
   "outputs": [],
   "source": [
    "# 요청 URL\n",
    "url = 'https://openapi.naver.com/v1/papago/n2mt'\n",
    "\n",
    "# 프로토콜\n",
    "# HTTPS\n",
    "\n",
    "# HTTP 메서드\n",
    "# POST\n",
    "\n",
    "# 파라미터\n",
    "# (source(str), target(str), text(str))\n",
    "# 언어코드: ko en ja ..."
   ]
  },
  {
   "cell_type": "code",
   "execution_count": null,
   "metadata": {},
   "outputs": [],
   "source": [
    "# POST /v1/papago/n2mt HTTP/1.1\n",
    "# HOST: openapi.naver.com\n",
    "# User-Agent: curl/7.49.1\n",
    "# Accept: */*\n",
    "# Content-Type: application/x-www-form-urlencoded; charset=UTF-8\n",
    "# X-Naver-Client-Id: {애플리케이션 등록 시 발급받은 클라이언트 아이디 값}\n",
    "# X-Naver-Client-Secret: {애플리케이션 등록 시 발급받은 클라이언트 시크릿 값}\n",
    "# Content-Length: 51"
   ]
  },
  {
   "cell_type": "code",
   "execution_count": 17,
   "metadata": {},
   "outputs": [
    {
     "name": "stdout",
     "output_type": "stream",
     "text": [
      "{\"message\":{\"result\":{\"srcLangType\":\"ko\",\"tarLangType\":\"en\",\"translatedText\":\"Nice to meet you.\",\"engineType\":\"PRETRANS\"},\"@type\":\"response\",\"@service\":\"naverservice.nmt.proxy\",\"@version\":\"1.0.0\"}}\n",
      "Nice to meet you.\n"
     ]
    }
   ],
   "source": [
    "import os\n",
    "import sys\n",
    "import urllib.request\n",
    "# CLIENT_ID = '7Yw2M7vKyQsb4bATf9pc'\n",
    "# CLIENT_SECRET = 'dPU0HHKovP'\n",
    "client_id = \"USE_YOUR_CLIENT_ID\" # 개발자센터에서 발급받은 Client ID 값\n",
    "client_secret = \"USE_YOUR_CLIENT_SECRET\" # 개발자센터에서 발급받은 Client Secret 값\n",
    "encText = urllib.parse.quote(\"반갑습니다\")\n",
    "data = \"source=ko&target=en&text=\" + encText\n",
    "url = \"https://openapi.naver.com/v1/papago/n2mt\"\n",
    "request = urllib.request.Request(url)\n",
    "request.add_header(\"X-Naver-Client-Id\",client_id)\n",
    "request.add_header(\"X-Naver-Client-Secret\",client_secret)\n",
    "response = urllib.request.urlopen(request, data=data.encode(\"utf-8\"))\n",
    "rescode = response.getcode()\n",
    "if(rescode==200):\n",
    "    response_body = response.read()\n",
    "    decode = json.loads(response_body.decode('utf-8'))\n",
    "    result = decode['message']['result']['translatedText']\n",
    "    print(response_body.decode('utf-8'))\n",
    "    print(result)\n",
    "else:\n",
    "    print(\"Error Code:\" + rescode)"
   ]
  },
  {
   "cell_type": "code",
   "execution_count": 19,
   "metadata": {},
   "outputs": [],
   "source": [
    "import os\n",
    "import sys\n",
    "import urllib.request\n",
    "\n",
    "# To function\n",
    "def translate_text(text):\n",
    "    client_id = \"USE_YOUR_CLIENT_ID\" # 개발자센터에서 발급받은 Client ID 값\n",
    "    client_secret = \"USE_YOUR_CLIENT_SECRET\" # 개발자센터에서 발급받은 Client Secret 값\n",
    "    encText = urllib.parse.quote(text)\n",
    "    data = \"source=en&target=ko&text=\" + encText\n",
    "    url = \"https://openapi.naver.com/v1/papago/n2mt\"\n",
    "    request = urllib.request.Request(url)\n",
    "    request.add_header(\"X-Naver-Client-Id\",client_id)\n",
    "    request.add_header(\"X-Naver-Client-Secret\",client_secret)\n",
    "    response = urllib.request.urlopen(request, data=data.encode(\"utf-8\"))\n",
    "    rescode = response.getcode()\n",
    "    if(rescode==200):\n",
    "        response_body = response.read()\n",
    "        decode = json.loads(response_body.decode('utf-8'))\n",
    "        return decode['message']['result']['translatedText']        \n",
    "    else:\n",
    "        print(\"Error Code:\" + rescode)"
   ]
  },
  {
   "cell_type": "code",
   "execution_count": 20,
   "metadata": {},
   "outputs": [
    {
     "data": {
      "text/plain": [
       "'그의 이름은 펜처치이다'"
      ]
     },
     "execution_count": 20,
     "metadata": {},
     "output_type": "execute_result"
    }
   ],
   "source": [
    "# print(translate_text())\n",
    "translate_text('his name is Fenchurch')"
   ]
  },
  {
   "cell_type": "code",
   "execution_count": 21,
   "metadata": {},
   "outputs": [
    {
     "data": {
      "text/plain": [
       "'엘릭스니 설계의 잠수정이 타이탄의 메탄 바다로 내려오면서 산호의 이국적인 풍경을 드러낸다. 펜처치, 찰코, 리스본 등 세 인물이 수압을 조절하기 위해 기계 기술을 이용해 이 지역을 탐험한다. 그들은 유사분열의 징후를 보이고 지식을 흡수하는 능력을 가진 TKO-300이라고 불리는 생명체의 유해를 우연히 발견한다. 펜처치와 찰코 소방대는 유해 처리 방법에 대한 권고를 받고 있으며, 찰코 소방대는 격리와 제한된 노출을 제안하고 있다. 그들은 또한 흰색으로 빛날 경우 위험이나 기억력 상실을 나타내는 부적에 대해 논의한다. 잠수정은 계속해서 하강하고, 그들은 그들이 테이크킹 왕 오릭스의 의식적 부활을 조사하고 있다는 것을 알게 된다. 찰코는 루슨트 브루드가 하이브 네크로맨시와 유령의 힘을 결합하려고 시도하여 오릭스의 신체가 절단되었지만 여전히 활동적이라고 설명한다. 펜처치, 리스본, 샬코는 이 장소를 방문한 유일한 팀이며, 그들은 추가 분석을 위해 샘플을 다시 가져오는 임무를 맡고 있다.'"
      ]
     },
     "execution_count": 21,
     "metadata": {},
     "output_type": "execute_result"
    }
   ],
   "source": [
    "translate_text('A submersible of Eliksni design descends into Titan\\'s methane ocean, revealing an alien landscape of coral. Three figures, Fenchurch, Chalco, and Lisbon, explore the area using mechanical technology to regulate water pressure. They come across the remains of a creature called TKO-300, which shows signs of mitosis and has the ability to absorb knowledge. Fenchurch and Chalco\\'s fireteam receives recommendations on how to handle the remains, with Chalco suggesting quarantine and limited exposure. They also discuss a talisman that, if it glows white, indicates danger or memory loss. The submersible continues to descend, and they discover that they are investigating the ritualistic resurrection of Oryx, the Taken King. Chalco explains that the Lucent Brood attempted to combine Hive necromancy with a Ghost\\'s power, resulting in Oryx\\'s dismembered but still-active body. Fenchurch, Lisbon, and Chalco are the only team to have visited this site, and they are tasked with bringing back samples for further analysis.')"
   ]
  },
  {
   "cell_type": "code",
   "execution_count": null,
   "metadata": {},
   "outputs": [],
   "source": [
    "def add_backslash(text):\n",
    "    text = text.replace(\"'\", \"\\\\'\")\n",
    "    text = text.replace('\"', '\\\\\"')\n",
    "    return text\n",
    "\n",
    "df_summary['summary'] = df_summary['summary'].apply(add_backslash)"
   ]
  },
  {
   "cell_type": "code",
   "execution_count": 30,
   "metadata": {},
   "outputs": [
    {
     "name": "stdout",
     "output_type": "stream",
     "text": [
      "This is a \\\\'quote\\\\'\n",
      "Another \\\\\"quote\\\\\"\n",
      " \n",
      "In this text, the character Lisbon-13 and his companion Piri find themselves in a dangerous situation where Lisbon-13 is trying to destroy Piri. Piri pleads with Lisbon-13 to stop and understand his reasons before taking any action. They engage in a tense exchange as they dodge explosions and navigate through the environment. Eventually, Lisbon-13\\'s doppelganger appears and reveals that Lisbon-13\\'s true fear is not the power he possesses but the burden that comes with it. The doppelganger suggests that together they can find a new path and help relieve Lisbon-13 of his desires and responsibilities. Meanwhile, in another part of the text, Lisbon-13 and Fenchurch explore the remains of the Taken King, Oryx, on Titan\\'s seafloor. They discover that a Hive ritual attempted to resurrect Oryx, using forbidden methods. The investigation team plans to quarantine the site and gather samples for further analysis.\n",
      "Lisbon-13, along with Fenchurch and Chalco, descends through the methane ocean of Titan in a submersible. They discover an alien landscape of coral and plant a spire that regulates water pressure. Drones are released to explore further, revealing a disorienting vertical angle of the water\\'s surface. They encounter the remains of Oryx, the Taken King, and are tasked with investigating a disrupted ritual performed by the Lucent Brood. They find evidence of the body still being active with Taken energy and Darkness. The team is instructed to quarantine the site, exhuming the body for further analysis. They are the only team of Hidden to have visited the site. Fenchurch is initially hesitant but follows along with his team. They pass through a vertical plane of water and find themselves in a cavernous, dark space. Their talismans are important for communication and guidance. Chalco warns them about potential memory loss and urges them to call out if they experience anything unusual. The summary also briefly mentions the Kentarch 3\\'s mission to the Black Garden and the existence of a dangerous object that the Vex worship. Rekkana entrusts Lisbon-13 with this object.\n",
      "Lisbon-13 seems to be skeptical about their current situation and questions the importance of their mission. Rekkana, on the other hand, believes that their current circumstances are more significant and exciting. Lisbon-13 expresses concerns about the powers they have acquired, considering them to come from the wrong source. Yardarm-4 interrupts their conversation to remind Lisbon-13 of a past heroic action. Yardarm-4 emphasizes the team\\'s strength and potential, using a metaphor of a ship to explain their dynamics. As they explore a grotto, they hear mysterious voices and prepare for an encounter. Lisbon-13 reflects on the intense battle they faced and the implications of the Vex\\'s defenses. Rekkana and Yardarm-4 echo his sentiments, acknowledging that their mission holds greater significance than anticipated. Lisbon-13 remains silent, seemingly affected by the unfolding events. Rekkana assures Lisbon-13 that she trusts him, but Lisbon-13 doesn\\'t need to trust others as long as he trusts her. Rekkana reflects on her knowledge of Lisbon-13 and the challenges of accepting a truth she cannot share. The conversation ends with both of them heading back to the rest of their team.\n",
      "In the midst of a chaotic battle, Rekkana, Yardarm-4, and Lisbon-13 find themselves in a dangerous situation. Their trust in Lisbon-13 wavers as he had promised never to leave them but ended up executing a risky plan. Despite this, they stick together, seeking shelter and surveying their surroundings. They notice unusual interference in their Ghosts\\' scans and a strange voice beckoning them deeper into the grotto. Yardarm-4 reflects on the power they possess, acquired from questionable sources, and recalls moments of Lisbon-13\\'s bravery. However, Lisbon-13 dismisses the idea of using that power, and the team remains on edge as they encounter an unknown threat. They hear a voice that seems to be inside Yardarm-4\\'s head, causing confusion and uncertainty. Yardarm-4, feeling compelled to speak, mentions that they underestimated their adversaries, but Rekkana argues that it has provided them with perspective. Lisbon-13 theorizes that the Vex consider their current location a weakness. As they prepare to face the imminent danger, Yardarm-4 involuntarily praises his companions\\' heroism.\n",
      "In this text, Lisbon-13 finds himself in a tense situation, taking cover behind a boulder and reloading his weapon. He expresses his dissatisfaction with the current situation, exclaiming that he didn\\'t want things to escalate to this point. As expected, a grenade lands near him, prompting shots from his enemies on the other side of the boulder. Lisbon-13 seizes this opportunity to move up the slope while the explosion provides cover.\n",
      "\n",
      "From his new vantage point, he notices that his enemies have not taken the bait as they normally would have. He reflects on how he has trained them to be more patient. Yardarm-4 calls out from his right, questioning Lisbon-13\\'s motives and what he gained from accepting something. Sensing it might be a feint, Lisbon-13 throws a grenade in that direction. He then discovers Rekkana, who had quietly approached him from behind.\n",
      "\n",
      "Rekkana possesses an unfamiliar and powerful energy in her fist, ready to unleash it on Lisbon-13. Lisbon-13 shares that what he desired was offered to him but realizes that it could never truly fulfill his desires, only taking them away. He raises his weapon, Divinity, and begins to walk away as Rekkana comments on his lack of trust in someone. Lisbon-13 stumbles momentarily but maintains his pace, expressing his trust in Rekkana.\n",
      "\n",
      "Rekkana understands Lisbon-13 deeply, seeing his flaws and regrets without judgement. She questions if her trust is enough for him, and Lisbon-13 reassures her that her trust is always sufficient. This trust forms a steadfast foundation for their dangerous lives. Lisbon-13 looks out at the strange landscape and muses about the enigmatic nature of their mission. However, he finds solace in the fact that he doesn\\'t need to question when Rekkana holds the answers. They decide to return to Yardarm before he indulges in shooting bugs for entertainment, signifying their shared duty and camaraderie.\n"
     ]
    }
   ],
   "source": [
    "import pandas as pd\n",
    "\n",
    "# Example DataFrame\n",
    "# data = {'column_name': [\"This is a 'quote'\", 'Another \"quote\"']}\n",
    "# df = pd.DataFrame(data)\n",
    "\n",
    "# Function to add backslash in front of ' and \"\n",
    "def add_backslash(text):\n",
    "    text = text.replace(\"'\", \"\\\\'\")  # Add \\ before '\n",
    "    text = text.replace('\"', '\\\\\"')  # Add \\ before \"\n",
    "    return text\n",
    "\n",
    "# Apply the function to the column\n",
    "df['column_name'] = df['column_name'].apply(add_backslash)\n",
    "\n",
    "# Now you can pass the escaped data to functions without issues\n",
    "for row in df['column_name']:\n",
    "    print(row)  # This will print the correctly escaped strings"
   ]
  },
  {
   "cell_type": "code",
   "execution_count": 24,
   "metadata": {},
   "outputs": [
    {
     "data": {
      "text/plain": [
       "column_name    Another \\\"quote\\\"\n",
       "Name: 1, dtype: object"
      ]
     },
     "execution_count": 24,
     "metadata": {},
     "output_type": "execute_result"
    }
   ],
   "source": [
    "df.iloc[1]"
   ]
  },
  {
   "cell_type": "code",
   "execution_count": 29,
   "metadata": {},
   "outputs": [],
   "source": [
    "df.loc[2] = \" \\nIn this text, the character Lisbon-13 and his companion Piri find themselves in a dangerous situation where Lisbon-13 is trying to destroy Piri. Piri pleads with Lisbon-13 to stop and understand his reasons before taking any action. They engage in a tense exchange as they dodge explosions and navigate through the environment. Eventually, Lisbon-13's doppelganger appears and reveals that Lisbon-13's true fear is not the power he possesses but the burden that comes with it. The doppelganger suggests that together they can find a new path and help relieve Lisbon-13 of his desires and responsibilities. Meanwhile, in another part of the text, Lisbon-13 and Fenchurch explore the remains of the Taken King, Oryx, on Titan's seafloor. They discover that a Hive ritual attempted to resurrect Oryx, using forbidden methods. The investigation team plans to quarantine the site and gather samples for further analysis.\\nLisbon-13, along with Fenchurch and Chalco, descends through the methane ocean of Titan in a submersible. They discover an alien landscape of coral and plant a spire that regulates water pressure. Drones are released to explore further, revealing a disorienting vertical angle of the water's surface. They encounter the remains of Oryx, the Taken King, and are tasked with investigating a disrupted ritual performed by the Lucent Brood. They find evidence of the body still being active with Taken energy and Darkness. The team is instructed to quarantine the site, exhuming the body for further analysis. They are the only team of Hidden to have visited the site. Fenchurch is initially hesitant but follows along with his team. They pass through a vertical plane of water and find themselves in a cavernous, dark space. Their talismans are important for communication and guidance. Chalco warns them about potential memory loss and urges them to call out if they experience anything unusual. The summary also briefly mentions the Kentarch 3's mission to the Black Garden and the existence of a dangerous object that the Vex worship. Rekkana entrusts Lisbon-13 with this object.\\nLisbon-13 seems to be skeptical about their current situation and questions the importance of their mission. Rekkana, on the other hand, believes that their current circumstances are more significant and exciting. Lisbon-13 expresses concerns about the powers they have acquired, considering them to come from the wrong source. Yardarm-4 interrupts their conversation to remind Lisbon-13 of a past heroic action. Yardarm-4 emphasizes the team's strength and potential, using a metaphor of a ship to explain their dynamics. As they explore a grotto, they hear mysterious voices and prepare for an encounter. Lisbon-13 reflects on the intense battle they faced and the implications of the Vex's defenses. Rekkana and Yardarm-4 echo his sentiments, acknowledging that their mission holds greater significance than anticipated. Lisbon-13 remains silent, seemingly affected by the unfolding events. Rekkana assures Lisbon-13 that she trusts him, but Lisbon-13 doesn't need to trust others as long as he trusts her. Rekkana reflects on her knowledge of Lisbon-13 and the challenges of accepting a truth she cannot share. The conversation ends with both of them heading back to the rest of their team.\\nIn the midst of a chaotic battle, Rekkana, Yardarm-4, and Lisbon-13 find themselves in a dangerous situation. Their trust in Lisbon-13 wavers as he had promised never to leave them but ended up executing a risky plan. Despite this, they stick together, seeking shelter and surveying their surroundings. They notice unusual interference in their Ghosts' scans and a strange voice beckoning them deeper into the grotto. Yardarm-4 reflects on the power they possess, acquired from questionable sources, and recalls moments of Lisbon-13's bravery. However, Lisbon-13 dismisses the idea of using that power, and the team remains on edge as they encounter an unknown threat. They hear a voice that seems to be inside Yardarm-4's head, causing confusion and uncertainty. Yardarm-4, feeling compelled to speak, mentions that they underestimated their adversaries, but Rekkana argues that it has provided them with perspective. Lisbon-13 theorizes that the Vex consider their current location a weakness. As they prepare to face the imminent danger, Yardarm-4 involuntarily praises his companions' heroism.\\nIn this text, Lisbon-13 finds himself in a tense situation, taking cover behind a boulder and reloading his weapon. He expresses his dissatisfaction with the current situation, exclaiming that he didn't want things to escalate to this point. As expected, a grenade lands near him, prompting shots from his enemies on the other side of the boulder. Lisbon-13 seizes this opportunity to move up the slope while the explosion provides cover.\\n\\nFrom his new vantage point, he notices that his enemies have not taken the bait as they normally would have. He reflects on how he has trained them to be more patient. Yardarm-4 calls out from his right, questioning Lisbon-13's motives and what he gained from accepting something. Sensing it might be a feint, Lisbon-13 throws a grenade in that direction. He then discovers Rekkana, who had quietly approached him from behind.\\n\\nRekkana possesses an unfamiliar and powerful energy in her fist, ready to unleash it on Lisbon-13. Lisbon-13 shares that what he desired was offered to him but realizes that it could never truly fulfill his desires, only taking them away. He raises his weapon, Divinity, and begins to walk away as Rekkana comments on his lack of trust in someone. Lisbon-13 stumbles momentarily but maintains his pace, expressing his trust in Rekkana.\\n\\nRekkana understands Lisbon-13 deeply, seeing his flaws and regrets without judgement. She questions if her trust is enough for him, and Lisbon-13 reassures her that her trust is always sufficient. This trust forms a steadfast foundation for their dangerous lives. Lisbon-13 looks out at the strange landscape and muses about the enigmatic nature of their mission. However, he finds solace in the fact that he doesn't need to question when Rekkana holds the answers. They decide to return to Yardarm before he indulges in shooting bugs for entertainment, signifying their shared duty and camaraderie.\""
   ]
  },
  {
   "cell_type": "code",
   "execution_count": 32,
   "metadata": {},
   "outputs": [
    {
     "data": {
      "text/plain": [
       "\" \\nIn this text, the character Lisbon-13 and his companion Piri find themselves in a dangerous situation where Lisbon-13 is trying to destroy Piri. Piri pleads with Lisbon-13 to stop and understand his reasons before taking any action. They engage in a tense exchange as they dodge explosions and navigate through the environment. Eventually, Lisbon-13\\\\'s doppelganger appears and reveals that Lisbon-13\\\\'s true fear is not the power he possesses but the burden that comes with it. The doppelganger suggests that together they can find a new path and help relieve Lisbon-13 of his desires and responsibilities. Meanwhile, in another part of the text, Lisbon-13 and Fenchurch explore the remains of the Taken King, Oryx, on Titan\\\\'s seafloor. They discover that a Hive ritual attempted to resurrect Oryx, using forbidden methods. The investigation team plans to quarantine the site and gather samples for further analysis.\\nLisbon-13, along with Fenchurch and Chalco, descends through the methane ocean of Titan in a submersible. They discover an alien landscape of coral and plant a spire that regulates water pressure. Drones are released to explore further, revealing a disorienting vertical angle of the water\\\\'s surface. They encounter the remains of Oryx, the Taken King, and are tasked with investigating a disrupted ritual performed by the Lucent Brood. They find evidence of the body still being active with Taken energy and Darkness. The team is instructed to quarantine the site, exhuming the body for further analysis. They are the only team of Hidden to have visited the site. Fenchurch is initially hesitant but follows along with his team. They pass through a vertical plane of water and find themselves in a cavernous, dark space. Their talismans are important for communication and guidance. Chalco warns them about potential memory loss and urges them to call out if they experience anything unusual. The summary also briefly mentions the Kentarch 3\\\\'s mission to the Black Garden and the existence of a dangerous object that the Vex worship. Rekkana entrusts Lisbon-13 with this object.\\nLisbon-13 seems to be skeptical about their current situation and questions the importance of their mission. Rekkana, on the other hand, believes that their current circumstances are more significant and exciting. Lisbon-13 expresses concerns about the powers they have acquired, considering them to come from the wrong source. Yardarm-4 interrupts their conversation to remind Lisbon-13 of a past heroic action. Yardarm-4 emphasizes the team\\\\'s strength and potential, using a metaphor of a ship to explain their dynamics. As they explore a grotto, they hear mysterious voices and prepare for an encounter. Lisbon-13 reflects on the intense battle they faced and the implications of the Vex\\\\'s defenses. Rekkana and Yardarm-4 echo his sentiments, acknowledging that their mission holds greater significance than anticipated. Lisbon-13 remains silent, seemingly affected by the unfolding events. Rekkana assures Lisbon-13 that she trusts him, but Lisbon-13 doesn\\\\'t need to trust others as long as he trusts her. Rekkana reflects on her knowledge of Lisbon-13 and the challenges of accepting a truth she cannot share. The conversation ends with both of them heading back to the rest of their team.\\nIn the midst of a chaotic battle, Rekkana, Yardarm-4, and Lisbon-13 find themselves in a dangerous situation. Their trust in Lisbon-13 wavers as he had promised never to leave them but ended up executing a risky plan. Despite this, they stick together, seeking shelter and surveying their surroundings. They notice unusual interference in their Ghosts\\\\' scans and a strange voice beckoning them deeper into the grotto. Yardarm-4 reflects on the power they possess, acquired from questionable sources, and recalls moments of Lisbon-13\\\\'s bravery. However, Lisbon-13 dismisses the idea of using that power, and the team remains on edge as they encounter an unknown threat. They hear a voice that seems to be inside Yardarm-4\\\\'s head, causing confusion and uncertainty. Yardarm-4, feeling compelled to speak, mentions that they underestimated their adversaries, but Rekkana argues that it has provided them with perspective. Lisbon-13 theorizes that the Vex consider their current location a weakness. As they prepare to face the imminent danger, Yardarm-4 involuntarily praises his companions\\\\' heroism.\\nIn this text, Lisbon-13 finds himself in a tense situation, taking cover behind a boulder and reloading his weapon. He expresses his dissatisfaction with the current situation, exclaiming that he didn\\\\'t want things to escalate to this point. As expected, a grenade lands near him, prompting shots from his enemies on the other side of the boulder. Lisbon-13 seizes this opportunity to move up the slope while the explosion provides cover.\\n\\nFrom his new vantage point, he notices that his enemies have not taken the bait as they normally would have. He reflects on how he has trained them to be more patient. Yardarm-4 calls out from his right, questioning Lisbon-13\\\\'s motives and what he gained from accepting something. Sensing it might be a feint, Lisbon-13 throws a grenade in that direction. He then discovers Rekkana, who had quietly approached him from behind.\\n\\nRekkana possesses an unfamiliar and powerful energy in her fist, ready to unleash it on Lisbon-13. Lisbon-13 shares that what he desired was offered to him but realizes that it could never truly fulfill his desires, only taking them away. He raises his weapon, Divinity, and begins to walk away as Rekkana comments on his lack of trust in someone. Lisbon-13 stumbles momentarily but maintains his pace, expressing his trust in Rekkana.\\n\\nRekkana understands Lisbon-13 deeply, seeing his flaws and regrets without judgement. She questions if her trust is enough for him, and Lisbon-13 reassures her that her trust is always sufficient. This trust forms a steadfast foundation for their dangerous lives. Lisbon-13 looks out at the strange landscape and muses about the enigmatic nature of their mission. However, he finds solace in the fact that he doesn\\\\'t need to question when Rekkana holds the answers. They decide to return to Yardarm before he indulges in shooting bugs for entertainment, signifying their shared duty and camaraderie.\""
      ]
     },
     "execution_count": 32,
     "metadata": {},
     "output_type": "execute_result"
    }
   ],
   "source": [
    "df.iloc[2,0]"
   ]
  },
  {
   "cell_type": "code",
   "execution_count": 34,
   "metadata": {},
   "outputs": [
    {
     "ename": "HTTPError",
     "evalue": "HTTP Error 400: Bad Request",
     "output_type": "error",
     "traceback": [
      "\u001b[1;31m---------------------------------------------------------------------------\u001b[0m",
      "\u001b[1;31mHTTPError\u001b[0m                                 Traceback (most recent call last)",
      "Cell \u001b[1;32mIn[34], line 2\u001b[0m\n\u001b[0;32m      1\u001b[0m sample \u001b[39m=\u001b[39m df\u001b[39m.\u001b[39miloc[\u001b[39m2\u001b[39m,\u001b[39m0\u001b[39m]\n\u001b[1;32m----> 2\u001b[0m translate_text(sample)\n",
      "Cell \u001b[1;32mIn[19], line 11\u001b[0m, in \u001b[0;36mtranslate_text\u001b[1;34m(text)\u001b[0m\n\u001b[0;32m      9\u001b[0m request\u001b[39m.\u001b[39madd_header(\u001b[39m\"\u001b[39m\u001b[39mX-Naver-Client-Id\u001b[39m\u001b[39m\"\u001b[39m,client_id)\n\u001b[0;32m     10\u001b[0m request\u001b[39m.\u001b[39madd_header(\u001b[39m\"\u001b[39m\u001b[39mX-Naver-Client-Secret\u001b[39m\u001b[39m\"\u001b[39m,client_secret)\n\u001b[1;32m---> 11\u001b[0m response \u001b[39m=\u001b[39m urllib\u001b[39m.\u001b[39;49mrequest\u001b[39m.\u001b[39;49murlopen(request, data\u001b[39m=\u001b[39;49mdata\u001b[39m.\u001b[39;49mencode(\u001b[39m\"\u001b[39;49m\u001b[39mutf-8\u001b[39;49m\u001b[39m\"\u001b[39;49m))\n\u001b[0;32m     12\u001b[0m rescode \u001b[39m=\u001b[39m response\u001b[39m.\u001b[39mgetcode()\n\u001b[0;32m     13\u001b[0m \u001b[39mif\u001b[39;00m(rescode\u001b[39m==\u001b[39m\u001b[39m200\u001b[39m):\n",
      "File \u001b[1;32mc:\\Users\\knigh\\anaconda3\\envs\\ClovisBrayI\\lib\\urllib\\request.py:222\u001b[0m, in \u001b[0;36murlopen\u001b[1;34m(url, data, timeout, cafile, capath, cadefault, context)\u001b[0m\n\u001b[0;32m    220\u001b[0m \u001b[39melse\u001b[39;00m:\n\u001b[0;32m    221\u001b[0m     opener \u001b[39m=\u001b[39m _opener\n\u001b[1;32m--> 222\u001b[0m \u001b[39mreturn\u001b[39;00m opener\u001b[39m.\u001b[39;49mopen(url, data, timeout)\n",
      "File \u001b[1;32mc:\\Users\\knigh\\anaconda3\\envs\\ClovisBrayI\\lib\\urllib\\request.py:531\u001b[0m, in \u001b[0;36mOpenerDirector.open\u001b[1;34m(self, fullurl, data, timeout)\u001b[0m\n\u001b[0;32m    529\u001b[0m \u001b[39mfor\u001b[39;00m processor \u001b[39min\u001b[39;00m \u001b[39mself\u001b[39m\u001b[39m.\u001b[39mprocess_response\u001b[39m.\u001b[39mget(protocol, []):\n\u001b[0;32m    530\u001b[0m     meth \u001b[39m=\u001b[39m \u001b[39mgetattr\u001b[39m(processor, meth_name)\n\u001b[1;32m--> 531\u001b[0m     response \u001b[39m=\u001b[39m meth(req, response)\n\u001b[0;32m    533\u001b[0m \u001b[39mreturn\u001b[39;00m response\n",
      "File \u001b[1;32mc:\\Users\\knigh\\anaconda3\\envs\\ClovisBrayI\\lib\\urllib\\request.py:640\u001b[0m, in \u001b[0;36mHTTPErrorProcessor.http_response\u001b[1;34m(self, request, response)\u001b[0m\n\u001b[0;32m    637\u001b[0m \u001b[39m# According to RFC 2616, \"2xx\" code indicates that the client's\u001b[39;00m\n\u001b[0;32m    638\u001b[0m \u001b[39m# request was successfully received, understood, and accepted.\u001b[39;00m\n\u001b[0;32m    639\u001b[0m \u001b[39mif\u001b[39;00m \u001b[39mnot\u001b[39;00m (\u001b[39m200\u001b[39m \u001b[39m<\u001b[39m\u001b[39m=\u001b[39m code \u001b[39m<\u001b[39m \u001b[39m300\u001b[39m):\n\u001b[1;32m--> 640\u001b[0m     response \u001b[39m=\u001b[39m \u001b[39mself\u001b[39;49m\u001b[39m.\u001b[39;49mparent\u001b[39m.\u001b[39;49merror(\n\u001b[0;32m    641\u001b[0m         \u001b[39m'\u001b[39;49m\u001b[39mhttp\u001b[39;49m\u001b[39m'\u001b[39;49m, request, response, code, msg, hdrs)\n\u001b[0;32m    643\u001b[0m \u001b[39mreturn\u001b[39;00m response\n",
      "File \u001b[1;32mc:\\Users\\knigh\\anaconda3\\envs\\ClovisBrayI\\lib\\urllib\\request.py:569\u001b[0m, in \u001b[0;36mOpenerDirector.error\u001b[1;34m(self, proto, *args)\u001b[0m\n\u001b[0;32m    567\u001b[0m \u001b[39mif\u001b[39;00m http_err:\n\u001b[0;32m    568\u001b[0m     args \u001b[39m=\u001b[39m (\u001b[39mdict\u001b[39m, \u001b[39m'\u001b[39m\u001b[39mdefault\u001b[39m\u001b[39m'\u001b[39m, \u001b[39m'\u001b[39m\u001b[39mhttp_error_default\u001b[39m\u001b[39m'\u001b[39m) \u001b[39m+\u001b[39m orig_args\n\u001b[1;32m--> 569\u001b[0m     \u001b[39mreturn\u001b[39;00m \u001b[39mself\u001b[39;49m\u001b[39m.\u001b[39;49m_call_chain(\u001b[39m*\u001b[39;49margs)\n",
      "File \u001b[1;32mc:\\Users\\knigh\\anaconda3\\envs\\ClovisBrayI\\lib\\urllib\\request.py:502\u001b[0m, in \u001b[0;36mOpenerDirector._call_chain\u001b[1;34m(self, chain, kind, meth_name, *args)\u001b[0m\n\u001b[0;32m    500\u001b[0m \u001b[39mfor\u001b[39;00m handler \u001b[39min\u001b[39;00m handlers:\n\u001b[0;32m    501\u001b[0m     func \u001b[39m=\u001b[39m \u001b[39mgetattr\u001b[39m(handler, meth_name)\n\u001b[1;32m--> 502\u001b[0m     result \u001b[39m=\u001b[39m func(\u001b[39m*\u001b[39;49margs)\n\u001b[0;32m    503\u001b[0m     \u001b[39mif\u001b[39;00m result \u001b[39mis\u001b[39;00m \u001b[39mnot\u001b[39;00m \u001b[39mNone\u001b[39;00m:\n\u001b[0;32m    504\u001b[0m         \u001b[39mreturn\u001b[39;00m result\n",
      "File \u001b[1;32mc:\\Users\\knigh\\anaconda3\\envs\\ClovisBrayI\\lib\\urllib\\request.py:649\u001b[0m, in \u001b[0;36mHTTPDefaultErrorHandler.http_error_default\u001b[1;34m(self, req, fp, code, msg, hdrs)\u001b[0m\n\u001b[0;32m    648\u001b[0m \u001b[39mdef\u001b[39;00m \u001b[39mhttp_error_default\u001b[39m(\u001b[39mself\u001b[39m, req, fp, code, msg, hdrs):\n\u001b[1;32m--> 649\u001b[0m     \u001b[39mraise\u001b[39;00m HTTPError(req\u001b[39m.\u001b[39mfull_url, code, msg, hdrs, fp)\n",
      "\u001b[1;31mHTTPError\u001b[0m: HTTP Error 400: Bad Request"
     ]
    }
   ],
   "source": [
    "sample = df.iloc[2,0]\n",
    "translate_text(sample)"
   ]
  },
  {
   "cell_type": "code",
   "execution_count": 41,
   "metadata": {},
   "outputs": [
    {
     "data": {
      "text/plain": [
       "'리스본-13과 피리는 긴장되고 위험한 상황에 처해 있음을 알게 된다.'"
      ]
     },
     "execution_count": 41,
     "metadata": {},
     "output_type": "execute_result"
    }
   ],
   "source": [
    "translate_text('  Lisbon-13 and Piri find themselves in a tense and dangerous situation.')"
   ]
  },
  {
   "cell_type": "code",
   "execution_count": 43,
   "metadata": {},
   "outputs": [
    {
     "data": {
      "text/plain": [
       "'리스본-13은 피리를 파괴하기로 결심했지만, 그녀는 피리와 함께 이성을 찾고 그의 동기를 이해하려고 노력한다.'"
      ]
     },
     "execution_count": 43,
     "metadata": {},
     "output_type": "execute_result"
    }
   ],
   "source": [
    "translate_text(' Lisbon-13 is determined to destroy Piri, but she tries to reason with him and understand his motivations.')"
   ]
  },
  {
   "cell_type": "code",
   "execution_count": 45,
   "metadata": {},
   "outputs": [
    {
     "data": {
      "text/plain": [
       "'피리는 치열한 전투를 벌이면서 리스본-13의 진정한 두려움은 그가 가진 힘이 아니라 그것이 그에게 주는 부담임을 알게 된다.'"
      ]
     },
     "execution_count": 45,
     "metadata": {},
     "output_type": "execute_result"
    }
   ],
   "source": [
    "translate_text('As they engage in a fierce battle, Piri discovers that Lisbon-13\\'s true fear is not the power he possesses but the burden it places on him.')"
   ]
  },
  {
   "cell_type": "code",
   "execution_count": 47,
   "metadata": {},
   "outputs": [
    {
     "data": {
      "text/plain": [
       "'리스본-13의 또 다른 버전이 나타나 다른 관점을 제시하며, 그가 새로운 길을 개척하고 부담을 덜 수 있는 방법을 찾을 것을 촉구한다.'"
      ]
     },
     "execution_count": 47,
     "metadata": {},
     "output_type": "execute_result"
    }
   ],
   "source": [
    "translate_text(' Another version of Lisbon-13 appears and offers a different perspective, urging him to forge a new path and find a way to lighten his burden.')"
   ]
  },
  {
   "cell_type": "code",
   "execution_count": 49,
   "metadata": {},
   "outputs": [
    {
     "data": {
      "text/plain": [
       "'피리는 다음에 일어날 폭발에 대비하지만, 리스본-13은 어떤 사람에 대한 그의 기억이 지워질 수 있는지 묻는다. 그림자 버전은 그의 요청을 이행할 것을 약속하며 그를 껴안는다.\\n\\n또 다른 줄거리로 리스본-13, 펜처치, 그리고 찰코는 타이탄 해저에서 테이크큰 킹인 오릭스의 유적을 탐험한다.'"
      ]
     },
     "execution_count": 49,
     "metadata": {},
     "output_type": "execute_result"
    }
   ],
   "source": [
    "translate_text(' Piri prepares herself for the explosions that might follow, but instead, Lisbon-13 asks if his memories of a certain person can be erased. The shadow version embraces him, promising to fulfill his request.\\n\\nIn a separate storyline, Lisbon-13, Fenchurch, and Chalco explore the remains of Oryx, the Taken King, on Titan\\'s seafloor.')"
   ]
  },
  {
   "cell_type": "code",
   "execution_count": 50,
   "metadata": {},
   "outputs": [
    {
     "data": {
      "text/plain": [
       "'그들은 하이브 의식이 이단적인 네크로맨시와 하이브 유령을 이용하여 오릭스를 부활시키려고 시도했다는 것을 발견한다. 몸은 여전히 활동적이고 에너지를 흡수한 흔적을 보인다. 그들의 임무는 샘플을 수집하고 추가 분석을 위해 현장을 격리하는 것이다. 칼코는 그들의 팀이 지금까지 그 장소를 방문한 유일한 사람이라고 암시하고, 그들은 오릭스를 둘러싼 미스터리에 대한 조사를 계속한다. 리스본-13, 찰코, 펜처치는 엘릭스니 설계의 잠수정으로 타이탄의 메탄 바다 깊이를 탐사하고 있다. 그들은 꼬불꼬불한 산호의 이국적인 풍경을 발견하고 테이크큰 킹인 오릭스의 유적과 마주친다. 칼코는 루슨트 브루드가 하이브 네크로맨시와 하이브 고스트를 이용해 오릭스를 부활시키는 의식을 한 것으로 의심한다고 설명한다. 시체는 여전히 타케른 에너지와 어둠을 지니고 있으며, 시체에서 나온 의식의 파편들이 발견되었다. 팀의 임무는 분석을 위한 샘플을 가지고 와서 현장을 격리하는 것이다. 그들은 히든의 유일한 팀으로 그 사이트를 방문했다. 리스본-13은 펜처치를 포탈로 안내하여 별빛으로 가득 찬 지하의 동굴 같은 공간으로 안내한다. 샬코는 공식 보고서 밖에서 그들이 볼 것을 논의하지 말라고 경고한다. 그들의 임무가 검은 정원과 관련이 있으며 벡스에게 중요한 위험한 유물임이 밝혀진다. 레카나는 리스본-13이 그 물체를 발견했을 때 그것을 운반할 것이라고 믿는다. 리스본-13은 처음에 그들이 가지고 있는 힘이 잘못된 측면에서 왔다고 느끼며 그들의 임무의 중요성에 대해 확신하지 못하고 있다. 레카나는 그를 안심시키려고 노력하지만, 그녀 자신은 불확실하다. 야드암-4는 그들이 함께 이룬 과거의 영웅적 위업을 상기시키며, 그것을 그들의 현재 상황과 비교한다. 리스본-13은 그 이야기에 영향을 받은 것처럼 보이며 침묵을 지키고 있다. 대화가 계속되면서 야르담-4는 그들의 유령에 대한 질투를 표현하지만 리스본-13은 그가 팀의 역동성에 결정적인 요소라고 안심시킨다. 그들은 최근의 만남과 그들이 직면한 방어에 대해 논의하고, 벡스가 그들의 현재 위치를 약점으로 인식하고 있다는 것을 깨닫는다. 갑자기, 신비로운 목소리가 \"약함\"이라는 단어를 반복합니다 레카나와 리스본-13은 다음에 올 것에 대비하여 준비를 갖추었다. 레카나는 그녀가 벡스를 과소평가했다는 것을 인정하고, 그들의 임무가 그들이 처음에 생각했던 것보다 더 중요하다고 표현한다. 리스본-13과 레카나는 잠시 양해를 교환한다. 그들의 대화는 리스본-13이 레카나를 신뢰한다고 말하면서 떠나가는 것으로 끝이 난다. 한편, 레카나는 리스본-13의 과거에 대한 지식과 자신이 공유할 수 없는 진실을 받아들이는 것에 대한 도전을 반성한다. 그들은 재회하고 야드암-4로 돌아갈 준비를 한다. 이 글에서 레카나, 야르담-4, 리스본-13은 벡스와 전투를 벌이고 있다. 그들은 이전에 그들을 떠나지 않겠다고 약속했지만 적들을 그들 쪽으로 유인함으로써 그들을 속인 리스본-13에 대한 그들의 신뢰에 대해 논의한다. 배신감을 느꼈음에도 불구하고, 레카나는 여전히 리스본-13이 그들을 완전히 버리지는 않았다고 믿는다. 그들은 이상한 신호와 마주치고 그들의 유령은 쓸모 없게 된다. 야드암-4는 두려움을 표현하고 그의 머리에서 신비한 목소리를 듣는다. 야르담-4는 레카나와 리스본-13을 도발하여 적에 대한 과소평가를 강조하지만, 벡스가 현재 위치를 약점으로 간주하고 있음을 인정한다. 그들은 이 약점이 벡스의 가장 큰 약점일 수 있다는 것을 알고 있다. 그들은 정체불명의 위협에 대비하고 야드암-4는 의도치 않게 그의 소방대에 감탄을 표한다. 결국, 그들은 야드암-4를 영웅이라고 부르는 목소리를 머릿속에서 듣게 된다. 리스본-13은 바위에 기대어 무기를 재장전하면서 상황에 대한 의지를 표명했다. 수류탄이 떨어지자 그는 폭발을 엄호로 삼아 비탈길을 올라갔다. 야르담-4는 동료들에게 인내심을 가르친 방법을 되돌아보며 리스본-13에게 무엇을 받아들였는지, 무엇을 제안했는지 물었다. 리스본-13은 야르담-4가 있을 것으로 예상되는 곳에 수류탄을 던졌고, 주먹에 힘을 실어 근처에 서 있는 레카나를 발견했다. 리스본-13은 그가 원하는 것이 그에게 제공되었지만 결국 빼앗겼다는 것을 밝혔다. 다른 사람에 대한 신뢰가 부족했음에도 불구하고 리스본-13은 레카나를 신뢰한다고 안심시켰고, 레카나는 그것으로 충분했다. 레카나는 이것을 인정했고 그들은 함께 임무를 계속했다. 리스본-13은 이상한 풍경을 알아차렸고 레카나의 임무에 대한 지식과 크립토크론이 검은 정원에 대한 진실을 발견했을 때의 잠재적인 결과에 대해 궁금해했다. 그러나 그는 레카나가 답을 안다면 질문을 할 필요가 없다는 것을 깨달았다. 그들은 야드암이 재미로 곤충을 쏘기 시작하기 전에 야드암의 위치로 돌아가기로 결정했다.'"
      ]
     },
     "execution_count": 50,
     "metadata": {},
     "output_type": "execute_result"
    }
   ],
   "source": [
    "translate_text(' They discover that a Hive ritual had attempted to resurrect Oryx using heretical necromancy and a Hive Ghost. The body still exhibits signs of activity and taken energy. Their mission is to collect samples and quarantine the site for further analysis. Chalco implies that their team is the only one to have visited the site so far, and they continue their investigation into the mysteries surrounding Oryx. Lisbon-13, Chalco, and Fenchurch are exploring the depths of Titan\\'s methane ocean in a submersible of Eliksni design. They discover an alien landscape of twisting coral and encounter the remains of Oryx, the Taken King. Chalco explains that they suspect the Lucent Brood performed a ritual to resurrect Oryx using Hive necromancy and a Hive Ghost. The body still possesses Taken energy and Darkness, and fragments of consciousness from the corpse have been found. The team\\'s mission is to bring back samples for analysis and quarantine the site. They are the only team of Hidden to have visited the site. Lisbon-13 guides Fenchurch through a portal, leading them to an underground, cavernous space filled with starlight. Chalco warns them not to discuss what they are about to see outside of official reports. It is revealed that their mission is related to the Black Garden and a dangerous relic that is important to the Vex. Rekkana trusts Lisbon-13 to carry the object when they find it. Lisbon-13 is initially unconvinced of the importance of their mission, feeling that the powers they possess come from the wrong side. Rekkana tries to reassure him, but she herself is uncertain. Yardarm-4 reminds them of a past heroic feat they achieved together, comparing it to their current situation. Lisbon-13 remains silent, seemingly affected by the story. As the conversation continues, Yardarm-4 expresses jealousy towards their Ghost, but Lisbon-13 reassures him that he is the crucial element in their team dynamic. They discuss their recent encounter and the defenses they faced, realizing that the Vex perceive their current location as a weakness. Suddenly, a mysterious voice repeats the word \"weakness.\" Rekkana and Lisbon-13 brace themselves, ready for what comes next. Rekkana acknowledges that she underestimated the Vex and expresses that their mission holds more significance than they initially thought. Lisbon-13 and Rekkana exchange a moment of understanding. Their conversation concludes with Lisbon-13 walking away, stating that he trusts Rekkana. Meanwhile, Rekkana reflects on her knowledge of Lisbon-13\\'s past and the challenges of accepting a truth that she cannot share. They reunite and prepare to return to Yardarm-4. In this text, Rekkana, Yardarm-4, and Lisbon-13 are engaged in a battle against the Vex. They discuss their trust in Lisbon-13, who had previously promised not to leave them but had deceived them by luring the enemy towards them. Despite feeling betrayed, Rekkana still believes Lisbon-13 hasn\\'t abandoned them completely. They encounter strange signals and their Ghosts are rendered useless. Yardarm-4 expresses fear and hears a mysterious voice in his head. Yardarm-4 provokes Rekkana and Lisbon-13, highlighting their underestimation of the enemy but also acknowledges that the Vex consider their current location a weakness. They realize that this weakness could be the Vex\\'s greatest vulnerability. They prepare for an unidentified threat and Yardarm-4 unintentionally expresses admiration for his fireteam. Ultimately, they hear a voice in their heads, calling Yardarm-4 a hero. Lisbon-13, leaning against a boulder, reloaded his weapon while expressing his unwillingness for the situation. As a grenade landed, he used the explosion as cover to move up the slope, leaving no trace of himself. Reflecting on how he had taught his companions patience, Yardarm-4 questioned Lisbon-13 about what he had accepted and what it had offered him. Lisbon-13 threw a grenade to where Yardarm-4 was expected to be and then turned to find Rekkana standing nearby with a powerful energy in her fist. Lisbon-13 revealed that what he desired was offered to him but ultimately taken away. Despite the lack of trust in another person, Lisbon-13 reassured Rekkana that he trusted her, which was enough for him. Rekkana acknowledged this and they continued on their mission together. Lisbon-13 noticed the strange landscape and wondered about Rekkana\\'s knowledge of the mission and the potential consequences of the Cryptochrons discovering the truth about the Black Garden. However, he realized that he didn\\'t need to ask questions if Rekkana knew the answers. They decided to return to Yardarm\\'s location before he started shooting insects for amusement.')"
   ]
  },
  {
   "cell_type": "code",
   "execution_count": null,
   "metadata": {},
   "outputs": [],
   "source": []
  }
 ],
 "metadata": {
  "kernelspec": {
   "display_name": "ClovisBrayI",
   "language": "python",
   "name": "python3"
  },
  "language_info": {
   "codemirror_mode": {
    "name": "ipython",
    "version": 3
   },
   "file_extension": ".py",
   "mimetype": "text/x-python",
   "name": "python",
   "nbconvert_exporter": "python",
   "pygments_lexer": "ipython3",
   "version": "3.8.16"
  },
  "orig_nbformat": 4
 },
 "nbformat": 4,
 "nbformat_minor": 2
}
