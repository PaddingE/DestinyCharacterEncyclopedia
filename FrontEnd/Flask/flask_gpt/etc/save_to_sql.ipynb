{
 "cells": [
  {
   "cell_type": "code",
   "execution_count": 41,
   "metadata": {},
   "outputs": [],
   "source": [
    "import subclass as sc\n",
    "import pandas as pd\n",
    "import os\n",
    "import urllib.request\n",
    "import urllib.parse\n",
    "import sys\n",
    "import json\n",
    "import re\n"
   ]
  },
  {
   "cell_type": "code",
   "execution_count": 42,
   "metadata": {},
   "outputs": [
    {
     "name": "stdout",
     "output_type": "stream",
     "text": [
      "시작\n",
      "종료, 총 걸린 시간: 48.7780282497406\n"
     ]
    }
   ],
   "source": [
    "pp = sc.Preprocessing()\n",
    "output = sc.Subclass()\n",
    "\n",
    "    \n",
    "df, name = pp.search_character('Lisbon_13')\n",
    "list_output_text, list_output_title = output.make_output(df,name)\n",
    "    \n",
    "full_text = ' '\n",
    "\n",
    "for text in list_output_text:\n",
    "    full_text += (' ' + text)"
   ]
  },
  {
   "cell_type": "code",
   "execution_count": 54,
   "metadata": {},
   "outputs": [],
   "source": [
    "df = pd.read_json('./Database/lisbon_gpt_summary.json')"
   ]
  },
  {
   "cell_type": "code",
   "execution_count": 55,
   "metadata": {},
   "outputs": [
    {
     "data": {
      "text/html": [
       "<div>\n",
       "<style scoped>\n",
       "    .dataframe tbody tr th:only-of-type {\n",
       "        vertical-align: middle;\n",
       "    }\n",
       "\n",
       "    .dataframe tbody tr th {\n",
       "        vertical-align: top;\n",
       "    }\n",
       "\n",
       "    .dataframe thead th {\n",
       "        text-align: right;\n",
       "    }\n",
       "</style>\n",
       "<table border=\"1\" class=\"dataframe\">\n",
       "  <thead>\n",
       "    <tr style=\"text-align: right;\">\n",
       "      <th></th>\n",
       "      <th>character</th>\n",
       "      <th>summary</th>\n",
       "    </tr>\n",
       "  </thead>\n",
       "  <tbody>\n",
       "    <tr>\n",
       "      <th>0</th>\n",
       "      <td>Lisbon-13</td>\n",
       "      <td>Lisbon-13 and his team, including Rekkana and ...</td>\n",
       "    </tr>\n",
       "    <tr>\n",
       "      <th>1</th>\n",
       "      <td>Lisbon-13</td>\n",
       "      <td>In this text, Lisbon-13 expresses doubt and sk...</td>\n",
       "    </tr>\n",
       "    <tr>\n",
       "      <th>2</th>\n",
       "      <td>Lisbon-13</td>\n",
       "      <td>In this text, Yardarm-4 and Lisbon-13, along w...</td>\n",
       "    </tr>\n",
       "    <tr>\n",
       "      <th>3</th>\n",
       "      <td>Lisbon-13</td>\n",
       "      <td>Summary of Lisbon-13:\\n\\nChalco Yong leads a t...</td>\n",
       "    </tr>\n",
       "    <tr>\n",
       "      <th>4</th>\n",
       "      <td>Lisbon-13</td>\n",
       "      <td>A compact Eliksni submersible descends through...</td>\n",
       "    </tr>\n",
       "  </tbody>\n",
       "</table>\n",
       "</div>"
      ],
      "text/plain": [
       "   character                                            summary\n",
       "0  Lisbon-13  Lisbon-13 and his team, including Rekkana and ...\n",
       "1  Lisbon-13  In this text, Lisbon-13 expresses doubt and sk...\n",
       "2  Lisbon-13  In this text, Yardarm-4 and Lisbon-13, along w...\n",
       "3  Lisbon-13  Summary of Lisbon-13:\\n\\nChalco Yong leads a t...\n",
       "4  Lisbon-13  A compact Eliksni submersible descends through..."
      ]
     },
     "execution_count": 55,
     "metadata": {},
     "output_type": "execute_result"
    }
   ],
   "source": [
    "df"
   ]
  },
  {
   "cell_type": "code",
   "execution_count": 43,
   "metadata": {},
   "outputs": [],
   "source": [
    "df_summary = pd.DataFrame({'character':['Lisbon-13'],\n",
    "                           'summary':[full_text]})"
   ]
  },
  {
   "cell_type": "code",
   "execution_count": 44,
   "metadata": {},
   "outputs": [
    {
     "data": {
      "text/html": [
       "<div>\n",
       "<style scoped>\n",
       "    .dataframe tbody tr th:only-of-type {\n",
       "        vertical-align: middle;\n",
       "    }\n",
       "\n",
       "    .dataframe tbody tr th {\n",
       "        vertical-align: top;\n",
       "    }\n",
       "\n",
       "    .dataframe thead th {\n",
       "        text-align: right;\n",
       "    }\n",
       "</style>\n",
       "<table border=\"1\" class=\"dataframe\">\n",
       "  <thead>\n",
       "    <tr style=\"text-align: right;\">\n",
       "      <th></th>\n",
       "      <th>character</th>\n",
       "      <th>summary</th>\n",
       "    </tr>\n",
       "  </thead>\n",
       "  <tbody>\n",
       "    <tr>\n",
       "      <th>0</th>\n",
       "      <td>Lisbon-13</td>\n",
       "      <td>Lisbon-13 and Piri find themselves in a tens...</td>\n",
       "    </tr>\n",
       "  </tbody>\n",
       "</table>\n",
       "</div>"
      ],
      "text/plain": [
       "   character                                            summary\n",
       "0  Lisbon-13    Lisbon-13 and Piri find themselves in a tens..."
      ]
     },
     "execution_count": 44,
     "metadata": {},
     "output_type": "execute_result"
    }
   ],
   "source": [
    "df_summary"
   ]
  },
  {
   "cell_type": "code",
   "execution_count": 38,
   "metadata": {},
   "outputs": [],
   "source": [
    "# To function\n",
    "def translate_text(text):\n",
    "    client_id = \"7Yw2M7vKyQsb4bATf9pc\" # 개발자센터에서 발급받은 Client ID 값\n",
    "    client_secret = \"dPU0HHKovP\" # 개발자센터에서 발급받은 Client Secret 값\n",
    "    encText = urllib.parse.quote(text)\n",
    "    data = \"source=en&target=ko&text=\" + encText\n",
    "    url = \"https://openapi.naver.com/v1/papago/n2mt\"\n",
    "    request = urllib.request.Request(url)\n",
    "    request.add_header(\"X-Naver-Client-Id\",client_id)\n",
    "    request.add_header(\"X-Naver-Client-Secret\",client_secret)\n",
    "    response = urllib.request.urlopen(request, data=data.encode(\"utf-8\"))\n",
    "    rescode = response.getcode()\n",
    "    if(rescode==200):\n",
    "        response_body = response.read()\n",
    "        decode = json.loads(response_body.decode('utf-8'))\n",
    "        return decode['message']['result']['translatedText']        \n",
    "    else:\n",
    "        print(\"Error Code:\" + rescode)"
   ]
  },
  {
   "cell_type": "code",
   "execution_count": 45,
   "metadata": {},
   "outputs": [],
   "source": [
    "text = df_summary.iloc[0,1]"
   ]
  },
  {
   "cell_type": "code",
   "execution_count": 46,
   "metadata": {},
   "outputs": [],
   "source": [
    "text = re.sub(\"'\",\"\\'\",text)\n",
    "text = re.sub('\"','\\\"',text)"
   ]
  },
  {
   "cell_type": "code",
   "execution_count": 47,
   "metadata": {},
   "outputs": [
    {
     "data": {
      "text/plain": [
       "'  Lisbon-13 and Piri find themselves in a tense and dangerous situation. Lisbon-13 is determined to destroy Piri, but she tries to reason with him and understand his motivations. As they engage in a fierce battle, Piri discovers that Lisbon-13\\'s true fear is not the power he possesses but the burden it places on him. Another version of Lisbon-13 appears and offers a different perspective, urging him to forge a new path and find a way to lighten his burden. Piri prepares herself for the explosions that might follow, but instead, Lisbon-13 asks if his memories of a certain person can be erased. The shadow version embraces him, promising to fulfill his request.\\n\\nIn a separate storyline, Lisbon-13, Fenchurch, and Chalco explore the remains of Oryx, the Taken King, on Titan\\'s seafloor. They discover that a Hive ritual had attempted to resurrect Oryx using heretical necromancy and a Hive Ghost. The body still exhibits signs of activity and taken energy. Their mission is to collect samples and quarantine the site for further analysis. Chalco implies that their team is the only one to have visited the site so far, and they continue their investigation into the mysteries surrounding Oryx. Lisbon-13, Chalco, and Fenchurch are exploring the depths of Titan\\'s methane ocean in a submersible of Eliksni design. They discover an alien landscape of twisting coral and encounter the remains of Oryx, the Taken King. Chalco explains that they suspect the Lucent Brood performed a ritual to resurrect Oryx using Hive necromancy and a Hive Ghost. The body still possesses Taken energy and Darkness, and fragments of consciousness from the corpse have been found. The team\\'s mission is to bring back samples for analysis and quarantine the site. They are the only team of Hidden to have visited the site. Lisbon-13 guides Fenchurch through a portal, leading them to an underground, cavernous space filled with starlight. Chalco warns them not to discuss what they are about to see outside of official reports. It is revealed that their mission is related to the Black Garden and a dangerous relic that is important to the Vex. Rekkana trusts Lisbon-13 to carry the object when they find it. Lisbon-13 is initially unconvinced of the importance of their mission, feeling that the powers they possess come from the wrong side. Rekkana tries to reassure him, but she herself is uncertain. Yardarm-4 reminds them of a past heroic feat they achieved together, comparing it to their current situation. Lisbon-13 remains silent, seemingly affected by the story. As the conversation continues, Yardarm-4 expresses jealousy towards their Ghost, but Lisbon-13 reassures him that he is the crucial element in their team dynamic. They discuss their recent encounter and the defenses they faced, realizing that the Vex perceive their current location as a weakness. Suddenly, a mysterious voice repeats the word \"weakness.\" Rekkana and Lisbon-13 brace themselves, ready for what comes next. Rekkana acknowledges that she underestimated the Vex and expresses that their mission holds more significance than they initially thought. Lisbon-13 and Rekkana exchange a moment of understanding. Their conversation concludes with Lisbon-13 walking away, stating that he trusts Rekkana. Meanwhile, Rekkana reflects on her knowledge of Lisbon-13\\'s past and the challenges of accepting a truth that she cannot share. They reunite and prepare to return to Yardarm-4. In this text, Rekkana, Yardarm-4, and Lisbon-13 are engaged in a battle against the Vex. They discuss their trust in Lisbon-13, who had previously promised not to leave them but had deceived them by luring the enemy towards them. Despite feeling betrayed, Rekkana still believes Lisbon-13 hasn\\'t abandoned them completely. They encounter strange signals and their Ghosts are rendered useless. Yardarm-4 expresses fear and hears a mysterious voice in his head. Yardarm-4 provokes Rekkana and Lisbon-13, highlighting their underestimation of the enemy but also acknowledges that the Vex consider their current location a weakness. They realize that this weakness could be the Vex\\'s greatest vulnerability. They prepare for an unidentified threat and Yardarm-4 unintentionally expresses admiration for his fireteam. Ultimately, they hear a voice in their heads, calling Yardarm-4 a hero. Lisbon-13, leaning against a boulder, reloaded his weapon while expressing his unwillingness for the situation. As a grenade landed, he used the explosion as cover to move up the slope, leaving no trace of himself. Reflecting on how he had taught his companions patience, Yardarm-4 questioned Lisbon-13 about what he had accepted and what it had offered him. Lisbon-13 threw a grenade to where Yardarm-4 was expected to be and then turned to find Rekkana standing nearby with a powerful energy in her fist. Lisbon-13 revealed that what he desired was offered to him but ultimately taken away. Despite the lack of trust in another person, Lisbon-13 reassured Rekkana that he trusted her, which was enough for him. Rekkana acknowledged this and they continued on their mission together. Lisbon-13 noticed the strange landscape and wondered about Rekkana\\'s knowledge of the mission and the potential consequences of the Cryptochrons discovering the truth about the Black Garden. However, he realized that he didn\\'t need to ask questions if Rekkana knew the answers. They decided to return to Yardarm\\'s location before he started shooting insects for amusement.'"
      ]
     },
     "execution_count": 47,
     "metadata": {},
     "output_type": "execute_result"
    }
   ],
   "source": [
    "text"
   ]
  },
  {
   "cell_type": "code",
   "execution_count": 30,
   "metadata": {},
   "outputs": [],
   "source": [
    "def add_backslash(text):\n",
    "    text = text.replace(\"'\", \"\\'\")\n",
    "    text = text.replace('\"', '\\\"')\n",
    "    return text\n",
    "\n",
    "df_summary['summary'] = df_summary['summary'].apply(add_backslash)"
   ]
  },
  {
   "cell_type": "code",
   "execution_count": 49,
   "metadata": {},
   "outputs": [],
   "source": [
    "text = add_backslash(text)"
   ]
  },
  {
   "cell_type": "code",
   "execution_count": 51,
   "metadata": {},
   "outputs": [
    {
     "data": {
      "text/plain": [
       "'  Lisbon-13 and Piri find themselves in a tense and dangerous situation. Lisbon-13 is determined to destroy Piri, but she tries to reason with him and understand his motivations. As they engage in a fierce battle, Piri discovers that Lisbon-13\\'s true fear is not the power he possesses but the burden it places on him. Another version of Lisbon-13 appears and offers a different perspective, urging him to forge a new path and find a way to lighten his burden. Piri prepares herself for the explosions that might follow, but instead, Lisbon-13 asks if his memories of a certain person can be erased. The shadow version embraces him, promising to fulfill his request.\\n\\nIn a separate storyline, Lisbon-13, Fenchurch, and Chalco explore the remains of Oryx, the Taken King, on Titan\\'s seafloor. They discover that a Hive ritual had attempted to resurrect Oryx using heretical necromancy and a Hive Ghost. The body still exhibits signs of activity and taken energy. Their mission is to collect samples and quarantine the site for further analysis. Chalco implies that their team is the only one to have visited the site so far, and they continue their investigation into the mysteries surrounding Oryx. Lisbon-13, Chalco, and Fenchurch are exploring the depths of Titan\\'s methane ocean in a submersible of Eliksni design. They discover an alien landscape of twisting coral and encounter the remains of Oryx, the Taken King. Chalco explains that they suspect the Lucent Brood performed a ritual to resurrect Oryx using Hive necromancy and a Hive Ghost. The body still possesses Taken energy and Darkness, and fragments of consciousness from the corpse have been found. The team\\'s mission is to bring back samples for analysis and quarantine the site. They are the only team of Hidden to have visited the site. Lisbon-13 guides Fenchurch through a portal, leading them to an underground, cavernous space filled with starlight. Chalco warns them not to discuss what they are about to see outside of official reports. It is revealed that their mission is related to the Black Garden and a dangerous relic that is important to the Vex. Rekkana trusts Lisbon-13 to carry the object when they find it. Lisbon-13 is initially unconvinced of the importance of their mission, feeling that the powers they possess come from the wrong side. Rekkana tries to reassure him, but she herself is uncertain. Yardarm-4 reminds them of a past heroic feat they achieved together, comparing it to their current situation. Lisbon-13 remains silent, seemingly affected by the story. As the conversation continues, Yardarm-4 expresses jealousy towards their Ghost, but Lisbon-13 reassures him that he is the crucial element in their team dynamic. They discuss their recent encounter and the defenses they faced, realizing that the Vex perceive their current location as a weakness. Suddenly, a mysterious voice repeats the word \"weakness.\" Rekkana and Lisbon-13 brace themselves, ready for what comes next. Rekkana acknowledges that she underestimated the Vex and expresses that their mission holds more significance than they initially thought. Lisbon-13 and Rekkana exchange a moment of understanding. Their conversation concludes with Lisbon-13 walking away, stating that he trusts Rekkana. Meanwhile, Rekkana reflects on her knowledge of Lisbon-13\\'s past and the challenges of accepting a truth that she cannot share. They reunite and prepare to return to Yardarm-4. In this text, Rekkana, Yardarm-4, and Lisbon-13 are engaged in a battle against the Vex. They discuss their trust in Lisbon-13, who had previously promised not to leave them but had deceived them by luring the enemy towards them. Despite feeling betrayed, Rekkana still believes Lisbon-13 hasn\\'t abandoned them completely. They encounter strange signals and their Ghosts are rendered useless. Yardarm-4 expresses fear and hears a mysterious voice in his head. Yardarm-4 provokes Rekkana and Lisbon-13, highlighting their underestimation of the enemy but also acknowledges that the Vex consider their current location a weakness. They realize that this weakness could be the Vex\\'s greatest vulnerability. They prepare for an unidentified threat and Yardarm-4 unintentionally expresses admiration for his fireteam. Ultimately, they hear a voice in their heads, calling Yardarm-4 a hero. Lisbon-13, leaning against a boulder, reloaded his weapon while expressing his unwillingness for the situation. As a grenade landed, he used the explosion as cover to move up the slope, leaving no trace of himself. Reflecting on how he had taught his companions patience, Yardarm-4 questioned Lisbon-13 about what he had accepted and what it had offered him. Lisbon-13 threw a grenade to where Yardarm-4 was expected to be and then turned to find Rekkana standing nearby with a powerful energy in her fist. Lisbon-13 revealed that what he desired was offered to him but ultimately taken away. Despite the lack of trust in another person, Lisbon-13 reassured Rekkana that he trusted her, which was enough for him. Rekkana acknowledged this and they continued on their mission together. Lisbon-13 noticed the strange landscape and wondered about Rekkana\\'s knowledge of the mission and the potential consequences of the Cryptochrons discovering the truth about the Black Garden. However, he realized that he didn\\'t need to ask questions if Rekkana knew the answers. They decided to return to Yardarm\\'s location before he started shooting insects for amusement.'"
      ]
     },
     "execution_count": 51,
     "metadata": {},
     "output_type": "execute_result"
    }
   ],
   "source": [
    "text"
   ]
  },
  {
   "cell_type": "code",
   "execution_count": 32,
   "metadata": {},
   "outputs": [
    {
     "data": {
      "text/plain": [
       "\" \\nIn this text, the character Lisbon-13 and his companion Piri find themselves in a dangerous situation where Lisbon-13 is trying to destroy Piri. Piri pleads with Lisbon-13 to stop and understand his reasons before taking any action. They engage in a tense exchange as they dodge explosions and navigate through the environment. Eventually, Lisbon-13's doppelganger appears and reveals that Lisbon-13's true fear is not the power he possesses but the burden that comes with it. The doppelganger suggests that together they can find a new path and help relieve Lisbon-13 of his desires and responsibilities. Meanwhile, in another part of the text, Lisbon-13 and Fenchurch explore the remains of the Taken King, Oryx, on Titan's seafloor. They discover that a Hive ritual attempted to resurrect Oryx, using forbidden methods. The investigation team plans to quarantine the site and gather samples for further analysis.\\nLisbon-13, along with Fenchurch and Chalco, descends through the methane ocean of Titan in a submersible. They discover an alien landscape of coral and plant a spire that regulates water pressure. Drones are released to explore further, revealing a disorienting vertical angle of the water's surface. They encounter the remains of Oryx, the Taken King, and are tasked with investigating a disrupted ritual performed by the Lucent Brood. They find evidence of the body still being active with Taken energy and Darkness. The team is instructed to quarantine the site, exhuming the body for further analysis. They are the only team of Hidden to have visited the site. Fenchurch is initially hesitant but follows along with his team. They pass through a vertical plane of water and find themselves in a cavernous, dark space. Their talismans are important for communication and guidance. Chalco warns them about potential memory loss and urges them to call out if they experience anything unusual. The summary also briefly mentions the Kentarch 3's mission to the Black Garden and the existence of a dangerous object that the Vex worship. Rekkana entrusts Lisbon-13 with this object.\\nLisbon-13 seems to be skeptical about their current situation and questions the importance of their mission. Rekkana, on the other hand, believes that their current circumstances are more significant and exciting. Lisbon-13 expresses concerns about the powers they have acquired, considering them to come from the wrong source. Yardarm-4 interrupts their conversation to remind Lisbon-13 of a past heroic action. Yardarm-4 emphasizes the team's strength and potential, using a metaphor of a ship to explain their dynamics. As they explore a grotto, they hear mysterious voices and prepare for an encounter. Lisbon-13 reflects on the intense battle they faced and the implications of the Vex's defenses. Rekkana and Yardarm-4 echo his sentiments, acknowledging that their mission holds greater significance than anticipated. Lisbon-13 remains silent, seemingly affected by the unfolding events. Rekkana assures Lisbon-13 that she trusts him, but Lisbon-13 doesn't need to trust others as long as he trusts her. Rekkana reflects on her knowledge of Lisbon-13 and the challenges of accepting a truth she cannot share. The conversation ends with both of them heading back to the rest of their team.\\nIn the midst of a chaotic battle, Rekkana, Yardarm-4, and Lisbon-13 find themselves in a dangerous situation. Their trust in Lisbon-13 wavers as he had promised never to leave them but ended up executing a risky plan. Despite this, they stick together, seeking shelter and surveying their surroundings. They notice unusual interference in their Ghosts' scans and a strange voice beckoning them deeper into the grotto. Yardarm-4 reflects on the power they possess, acquired from questionable sources, and recalls moments of Lisbon-13's bravery. However, Lisbon-13 dismisses the idea of using that power, and the team remains on edge as they encounter an unknown threat. They hear a voice that seems to be inside Yardarm-4's head, causing confusion and uncertainty. Yardarm-4, feeling compelled to speak, mentions that they underestimated their adversaries, but Rekkana argues that it has provided them with perspective. Lisbon-13 theorizes that the Vex consider their current location a weakness. As they prepare to face the imminent danger, Yardarm-4 involuntarily praises his companions' heroism.\\nIn this text, Lisbon-13 finds himself in a tense situation, taking cover behind a boulder and reloading his weapon. He expresses his dissatisfaction with the current situation, exclaiming that he didn't want things to escalate to this point. As expected, a grenade lands near him, prompting shots from his enemies on the other side of the boulder. Lisbon-13 seizes this opportunity to move up the slope while the explosion provides cover.\\n\\nFrom his new vantage point, he notices that his enemies have not taken the bait as they normally would have. He reflects on how he has trained them to be more patient. Yardarm-4 calls out from his right, questioning Lisbon-13's motives and what he gained from accepting something. Sensing it might be a feint, Lisbon-13 throws a grenade in that direction. He then discovers Rekkana, who had quietly approached him from behind.\\n\\nRekkana possesses an unfamiliar and powerful energy in her fist, ready to unleash it on Lisbon-13. Lisbon-13 shares that what he desired was offered to him but realizes that it could never truly fulfill his desires, only taking them away. He raises his weapon, Divinity, and begins to walk away as Rekkana comments on his lack of trust in someone. Lisbon-13 stumbles momentarily but maintains his pace, expressing his trust in Rekkana.\\n\\nRekkana understands Lisbon-13 deeply, seeing his flaws and regrets without judgement. She questions if her trust is enough for him, and Lisbon-13 reassures her that her trust is always sufficient. This trust forms a steadfast foundation for their dangerous lives. Lisbon-13 looks out at the strange landscape and muses about the enigmatic nature of their mission. However, he finds solace in the fact that he doesn't need to question when Rekkana holds the answers. They decide to return to Yardarm before he indulges in shooting bugs for entertainment, signifying their shared duty and camaraderie.\""
      ]
     },
     "execution_count": 32,
     "metadata": {},
     "output_type": "execute_result"
    }
   ],
   "source": [
    "df_summary.iloc[0,1]"
   ]
  },
  {
   "cell_type": "code",
   "execution_count": 61,
   "metadata": {},
   "outputs": [
    {
     "name": "stdout",
     "output_type": "stream",
     "text": [
      "리스본-13과 레카나와 야르담-4를 포함한 그의 팀은 레카나가 시니어 시빌과 협의할 수 있는 중단 없는 시간을 보장하기 위해 분리되었다. 뱅가드는 오시리스가 예측한 대로 그들의 질서가 지속되고 있음을 발견했다. 이 팀의 임무는 나무라는 곳에서 검은 정원의 기원에 대한 지식을 찾는 것입니다. 그러나 검은 정원의 벡스에게 중요한 위험한 물건이나 유물이 있어 레카나에게 위협이 된다. 불확실성에도 불구하고, 그들은 임무를 시작한다.\n",
      "\n",
      "야드암-4와 그의 유령은 팀 내에서 그들의 역할에 대해 논의하는데, 야드암-4를 돛으로, 리스본-13을 키로 상징한다. 그들은 팀워크의 중요성과 리스본-13의 존재가 그들의 방향과 지도에 얼마나 중요한지에 대해 이야기한다. 한편, 리스본-13은 그들의 새로운 힘이 잘못된 측면에서 왔다고 느끼며 그들의 현재 임무의 중요성을 생각한다. 그러나 레카나는 갈등하지만 단호한 모습을 보이며 리스본-13이 위대한 용기와 기술을 보여준 과거 사건을 회상한다.\n",
      "\n",
      "팀이 진행됨에 따라 리스본-13은 야르담-4와 레카나와 그들의 변화된 임무에 대해 대립하며 의문을 표시한다. 레카나는 그들의 힘의 본질과 그들이 어디에서 왔는지에 대한 치열한 논의를 산출하며 불확실해 보인다. 야드암-4는 리스본-13이 그들이 함께 싸웠던 이전의 전투에 비유하며, 그들이 특별하고 영향력 있는 일을 하고 있다고 설득하려고 노력한다. 리스본-13은 여전히 회의적이지만 상관없이 진행될 것임을 암시한다.\n",
      "\n",
      "나중의 만남에서 리스본-13은 정체불명의 적과 전투를 벌이며, 그의 욕망과 그에게 제안된 것을 받아들인 결과에 대해 반성한다. 그의 유령은 복잡한 생명체를 감지하지 못하지만, 그들은 동굴에서 불가사의한 현상들을 경험하고 리스본-13을 호기심을 갖고 어떤 존재나 존재에 책임이 있는 존재와 소통할 준비를 하게 만든다.\n",
      "\n",
      "그들이 동굴을 떠날 때, 리스본-13은 레카나의 피로와 벡스의 방어를 과소평가했기 때문에 자신감이 떨어졌다. 야드암-4는 원근법을 위해 목숨을 거는 것의 가치에 의문을 제기하지만, 리스본-13은 벡스의 격렬한 저항이 그들의 임무의 중요성을 암시한다는 것을 깨닫는다. 그들은 검은 정원이 그들의 결의를 강화하는 벡스의 약점이 될 수 있다고 믿게 된다.\n",
      "\n",
      "결국 한 목소리가 '약함'이라는 단어를 여러 번 내뱉어 팀의 시선을 사로잡는다. 약점과 강점에 대한 논의가 중단되어 불확실하지만 중대한 도전에 직면하게 된다.\n",
      "이 글에서 리스본-13은 그들의 현재 임무에 대한 의심과 회의를 표현한다. 레카나는 그를 안심시키려고 노력하지만 리스본-13은 그들에게 주어진 권한이 잘못된 측면에서 왔다고 믿는다. 야르담-14는 리스본-13의 이전 영웅적 행위를 설명하며, 그들이 불리한 상황에 역행하는 것처럼 느끼는 현재의 상황과 비교한다. 리스본-13은 그 이야기에 영향을 받은 것처럼 보이며 침묵을 지키고 있다.\n",
      "\n",
      "레카나는 리스본-13이 그녀를 신뢰하지 않는다는 것을 인정하지만, 그녀는 그를 신뢰한다고 주장하고, 그것으로 충분하다. 그들은 자신들의 위험한 삶과 직면한 혼란을 반성한다. 그들은 그들의 임무와 검은 정원에 대해 레카나가 가지고 있을지도 모르는 잠재적인 지식에 대해 논의하지만, 그들이 서로를 신뢰하는 한 그 어떤 것도 중요하지 않다고 최종적으로 결정한다.\n",
      "\n",
      "대화는 전투에서 야드람-4와 레카나로 옮겨지는데, 야드람-4는 리스본-13의 충성심에 의문을 제기한다. 그러나 레카나는 리스본-13을 옹호하며, 그가 그들을 떠나지 않았다고 진술한다. 혼란 속에서, 세 수호자는 특이한 것을 듣고 그들의 유령에게 조사를 요청한다. 레카나의 유령은 갑자기 장애가 생겼고, 그녀는 리스본-13과 야드암-4에도 문제가 있다는 것을 알게 된다.\n",
      "\n",
      "그들은 동굴 더 깊은 곳에서 속삭이는 소리를 듣고 자신들의 강력한 적인 벡스를 과소평가했다는 것을 깨닫는다. 레카나는 이것을 인정하지만, 그것이 그들에게 새로운 관점을 제공했다고 믿는다. 리스본-13은 이 지역에서 벡스의 강력한 방어가 그것의 약점을 나타낸다고 추론한다. 그들이 새로운 도전에 직면할 준비를 하면서, 그들은 모두 이상한 것을 듣게 되고, 결과는 불확실해진다.\n",
      "이 글에서 야르담-4와 리스본-13은 레카나와 함께 그들의 임무와 그들이 가지고 있는 힘에 대해 논의한다. 야드암-4가 리스본-13에게 그들의 힘이 잘못된 쪽에서 왔다는 것을 설득하려고 시도하면서 긴장감이 감돌고 있지만, 리스본-13은 확신할 수 없다. 야드암-4는 리스본-13이 특출난 용기와 기술을 선보였던 과거의 임무를 회상한다. 갑자기, 그들은 그들의 머리에서 목소리를 듣고 그들의 유령을 부른다. 야드암-4의 고스트가 오작동하여 라이트와의 연결이 끊어졌다. 그들은 지치고 두들겨 맞은 기분으로 계속되고 야드암-4는 적을 과소평가했다고 말한다. 그들은 그들의 임무의 중요성과 적들의 약점에 대해 이야기한다. 그들이 알 수 없는 힘에 직면했을 때, 야르담-4는 뜻밖에도 그의 마음에서 무의식적으로 떠오르는 것 같은 생각들을 목소리로 들려준다. 그들은 그 목소리가 영웅으로 여겨지는 레카나에게서 나오고 있다는 것을 깨닫는다. 레카나에 대한 리스본-13의 신뢰는 의문시되지만 그는 그녀를 안심시킨다. 그들이 위험에 직면하자 리스본-13의 유령 피리는 그녀의 목숨을 살려달라고 애원하지만 리스본-13은 비밀을 숨기기 위해 그녀를 죽이는 것을 고려한다. 하지만 그는 결국 자신이 가진 권력의 부담을 깨닫고 이를 반대하기로 결정한다. 리스본-13은 그의 그림자-자신과 마주하고 누군가를 잊기를 요청하는데, 그의 그림자-자신은 동의한다.\n"
     ]
    },
    {
     "ename": "HTTPError",
     "evalue": "HTTP Error 429: Too Many Requests",
     "output_type": "error",
     "traceback": [
      "\u001b[1;31m---------------------------------------------------------------------------\u001b[0m",
      "\u001b[1;31mHTTPError\u001b[0m                                 Traceback (most recent call last)",
      "Cell \u001b[1;32mIn[61], line 2\u001b[0m\n\u001b[0;32m      1\u001b[0m \u001b[39mfor\u001b[39;00m i \u001b[39min\u001b[39;00m \u001b[39mrange\u001b[39m(\u001b[39mlen\u001b[39m(df)):\n\u001b[1;32m----> 2\u001b[0m     \u001b[39mprint\u001b[39m(translate_text(df\u001b[39m.\u001b[39;49miloc[i,\u001b[39m1\u001b[39;49m]))\n",
      "Cell \u001b[1;32mIn[38], line 11\u001b[0m, in \u001b[0;36mtranslate_text\u001b[1;34m(text)\u001b[0m\n\u001b[0;32m      9\u001b[0m request\u001b[39m.\u001b[39madd_header(\u001b[39m\"\u001b[39m\u001b[39mX-Naver-Client-Id\u001b[39m\u001b[39m\"\u001b[39m,client_id)\n\u001b[0;32m     10\u001b[0m request\u001b[39m.\u001b[39madd_header(\u001b[39m\"\u001b[39m\u001b[39mX-Naver-Client-Secret\u001b[39m\u001b[39m\"\u001b[39m,client_secret)\n\u001b[1;32m---> 11\u001b[0m response \u001b[39m=\u001b[39m urllib\u001b[39m.\u001b[39;49mrequest\u001b[39m.\u001b[39;49murlopen(request, data\u001b[39m=\u001b[39;49mdata\u001b[39m.\u001b[39;49mencode(\u001b[39m\"\u001b[39;49m\u001b[39mutf-8\u001b[39;49m\u001b[39m\"\u001b[39;49m))\n\u001b[0;32m     12\u001b[0m rescode \u001b[39m=\u001b[39m response\u001b[39m.\u001b[39mgetcode()\n\u001b[0;32m     13\u001b[0m \u001b[39mif\u001b[39;00m(rescode\u001b[39m==\u001b[39m\u001b[39m200\u001b[39m):\n",
      "File \u001b[1;32mc:\\Users\\hyun9\\anaconda3\\envs\\py3.8\\lib\\urllib\\request.py:222\u001b[0m, in \u001b[0;36murlopen\u001b[1;34m(url, data, timeout, cafile, capath, cadefault, context)\u001b[0m\n\u001b[0;32m    220\u001b[0m \u001b[39melse\u001b[39;00m:\n\u001b[0;32m    221\u001b[0m     opener \u001b[39m=\u001b[39m _opener\n\u001b[1;32m--> 222\u001b[0m \u001b[39mreturn\u001b[39;00m opener\u001b[39m.\u001b[39;49mopen(url, data, timeout)\n",
      "File \u001b[1;32mc:\\Users\\hyun9\\anaconda3\\envs\\py3.8\\lib\\urllib\\request.py:531\u001b[0m, in \u001b[0;36mOpenerDirector.open\u001b[1;34m(self, fullurl, data, timeout)\u001b[0m\n\u001b[0;32m    529\u001b[0m \u001b[39mfor\u001b[39;00m processor \u001b[39min\u001b[39;00m \u001b[39mself\u001b[39m\u001b[39m.\u001b[39mprocess_response\u001b[39m.\u001b[39mget(protocol, []):\n\u001b[0;32m    530\u001b[0m     meth \u001b[39m=\u001b[39m \u001b[39mgetattr\u001b[39m(processor, meth_name)\n\u001b[1;32m--> 531\u001b[0m     response \u001b[39m=\u001b[39m meth(req, response)\n\u001b[0;32m    533\u001b[0m \u001b[39mreturn\u001b[39;00m response\n",
      "File \u001b[1;32mc:\\Users\\hyun9\\anaconda3\\envs\\py3.8\\lib\\urllib\\request.py:640\u001b[0m, in \u001b[0;36mHTTPErrorProcessor.http_response\u001b[1;34m(self, request, response)\u001b[0m\n\u001b[0;32m    637\u001b[0m \u001b[39m# According to RFC 2616, \"2xx\" code indicates that the client's\u001b[39;00m\n\u001b[0;32m    638\u001b[0m \u001b[39m# request was successfully received, understood, and accepted.\u001b[39;00m\n\u001b[0;32m    639\u001b[0m \u001b[39mif\u001b[39;00m \u001b[39mnot\u001b[39;00m (\u001b[39m200\u001b[39m \u001b[39m<\u001b[39m\u001b[39m=\u001b[39m code \u001b[39m<\u001b[39m \u001b[39m300\u001b[39m):\n\u001b[1;32m--> 640\u001b[0m     response \u001b[39m=\u001b[39m \u001b[39mself\u001b[39;49m\u001b[39m.\u001b[39;49mparent\u001b[39m.\u001b[39;49merror(\n\u001b[0;32m    641\u001b[0m         \u001b[39m'\u001b[39;49m\u001b[39mhttp\u001b[39;49m\u001b[39m'\u001b[39;49m, request, response, code, msg, hdrs)\n\u001b[0;32m    643\u001b[0m \u001b[39mreturn\u001b[39;00m response\n",
      "File \u001b[1;32mc:\\Users\\hyun9\\anaconda3\\envs\\py3.8\\lib\\urllib\\request.py:569\u001b[0m, in \u001b[0;36mOpenerDirector.error\u001b[1;34m(self, proto, *args)\u001b[0m\n\u001b[0;32m    567\u001b[0m \u001b[39mif\u001b[39;00m http_err:\n\u001b[0;32m    568\u001b[0m     args \u001b[39m=\u001b[39m (\u001b[39mdict\u001b[39m, \u001b[39m'\u001b[39m\u001b[39mdefault\u001b[39m\u001b[39m'\u001b[39m, \u001b[39m'\u001b[39m\u001b[39mhttp_error_default\u001b[39m\u001b[39m'\u001b[39m) \u001b[39m+\u001b[39m orig_args\n\u001b[1;32m--> 569\u001b[0m     \u001b[39mreturn\u001b[39;00m \u001b[39mself\u001b[39;49m\u001b[39m.\u001b[39;49m_call_chain(\u001b[39m*\u001b[39;49margs)\n",
      "File \u001b[1;32mc:\\Users\\hyun9\\anaconda3\\envs\\py3.8\\lib\\urllib\\request.py:502\u001b[0m, in \u001b[0;36mOpenerDirector._call_chain\u001b[1;34m(self, chain, kind, meth_name, *args)\u001b[0m\n\u001b[0;32m    500\u001b[0m \u001b[39mfor\u001b[39;00m handler \u001b[39min\u001b[39;00m handlers:\n\u001b[0;32m    501\u001b[0m     func \u001b[39m=\u001b[39m \u001b[39mgetattr\u001b[39m(handler, meth_name)\n\u001b[1;32m--> 502\u001b[0m     result \u001b[39m=\u001b[39m func(\u001b[39m*\u001b[39;49margs)\n\u001b[0;32m    503\u001b[0m     \u001b[39mif\u001b[39;00m result \u001b[39mis\u001b[39;00m \u001b[39mnot\u001b[39;00m \u001b[39mNone\u001b[39;00m:\n\u001b[0;32m    504\u001b[0m         \u001b[39mreturn\u001b[39;00m result\n",
      "File \u001b[1;32mc:\\Users\\hyun9\\anaconda3\\envs\\py3.8\\lib\\urllib\\request.py:649\u001b[0m, in \u001b[0;36mHTTPDefaultErrorHandler.http_error_default\u001b[1;34m(self, req, fp, code, msg, hdrs)\u001b[0m\n\u001b[0;32m    648\u001b[0m \u001b[39mdef\u001b[39;00m \u001b[39mhttp_error_default\u001b[39m(\u001b[39mself\u001b[39m, req, fp, code, msg, hdrs):\n\u001b[1;32m--> 649\u001b[0m     \u001b[39mraise\u001b[39;00m HTTPError(req\u001b[39m.\u001b[39mfull_url, code, msg, hdrs, fp)\n",
      "\u001b[1;31mHTTPError\u001b[0m: HTTP Error 429: Too Many Requests"
     ]
    }
   ],
   "source": [
    "for i in range(len(df)):\n",
    "    print(translate_text(df.iloc[i,1]))"
   ]
  },
  {
   "cell_type": "code",
   "execution_count": 62,
   "metadata": {},
   "outputs": [],
   "source": [
    "text_translate = \"\"\"\n",
    " 리스본-13과 레카나와 야르담-4를 포함한 그의 팀은 레카나가 시니어 시빌과 협의할 수 있는 중단 없는 시간을 보장하기 위해 분리되었다. 뱅가드는 오시리스가 예측한 대로 그들의 질서가 지속되고 있음을 발견했다. 이 팀의 임무는 나무라는 곳에서 검은 정원의 기원에 대한 지식을 찾는 것입니다. 그러나 검은 정원의 벡스에게 중요한 위험한 물건이나 유물이 있어 레카나에게 위협이 된다. 불확실성에도 불구하고, 그들은 임무를 시작한다.\n",
    "\n",
    "야드암-4와 그의 유령은 팀 내에서 그들의 역할에 대해 논의하는데, 야드암-4를 돛으로, 리스본-13을 키로 상징한다. 그들은 팀워크의 중요성과 리스본-13의 존재가 그들의 방향과 지도에 얼마나 중요한지에 대해 이야기한다. 한편, 리스본-13은 그들의 새로운 힘이 잘못된 측면에서 왔다고 느끼며 그들의 현재 임무의 중요성을 생각한다. 그러나 레카나는 갈등하지만 단호한 모습을 보이며 리스본-13이 위대한 용기와 기술을 보여준 과거 사건을 회상한다.\n",
    "\n",
    "팀이 진행됨에 따라 리스본-13은 야르담-4와 레카나와 그들의 변화된 임무에 대해 대립하며 의문을 표시한다. 레카나는 그들의 힘의 본질과 그들이 어디에서 왔는지에 대한 치열한 논의를 산출하며 불확실해 보인다. 야드암-4는 리스본-13이 그들이 함께 싸웠던 이전의 전투에 비유하며, 그들이 특별하고 영향력 있는 일을 하고 있다고 설득하려고 노력한다. 리스본-13은 여전히 회의적이지만 상관없이 진행될 것임을 암시한다.\n",
    "\n",
    "나중의 만남에서 리스본-13은 정체불명의 적과 전투를 벌이며, 그의 욕망과 그에게 제안된 것을 받아들인 결과에 대해 반성한다. 그의 유령은 복잡한 생명체를 감지하지 못하지만, 그들은 동굴에서 불가사의한 현상들을 경험하고 리스본-13을 호기심을 갖고 어떤 존재나 존재에 책임이 있는 존재와 소통할 준비를 하게 만든다.\n",
    "\n",
    "그들이 동굴을 떠날 때, 리스본-13은 레카나의 피로와 벡스의 방어를 과소평가했기 때문에 자신감이 떨어졌다. 야드암-4는 원근법을 위해 목숨을 거는 것의 가치에 의문을 제기하지만, 리스본-13은 벡스의 격렬한 저항이 그들의 임무의 중요성을 암시한다는 것을 깨닫는다. 그들은 검은 정원이 그들의 결의를 강화하는 벡스의 약점이 될 수 있다고 믿게 된다.\n",
    "\n",
    "결국 한 목소리가 '약함'이라는 단어를 여러 번 내뱉어 팀의 시선을 사로잡는다. 약점과 강점에 대한 논의가 중단되어 불확실하지만 중대한 도전에 직면하게 된다.\n",
    "이 글에서 리스본-13은 그들의 현재 임무에 대한 의심과 회의를 표현한다. 레카나는 그를 안심시키려고 노력하지만 리스본-13은 그들에게 주어진 권한이 잘못된 측면에서 왔다고 믿는다. 야르담-14는 리스본-13의 이전 영웅적 행위를 설명하며, 그들이 불리한 상황에 역행하는 것처럼 느끼는 현재의 상황과 비교한다. 리스본-13은 그 이야기에 영향을 받은 것처럼 보이며 침묵을 지키고 있다.\n",
    "\n",
    "레카나는 리스본-13이 그녀를 신뢰하지 않는다는 것을 인정하지만, 그녀는 그를 신뢰한다고 주장하고, 그것으로 충분하다. 그들은 자신들의 위험한 삶과 직면한 혼란을 반성한다. 그들은 그들의 임무와 검은 정원에 대해 레카나가 가지고 있을지도 모르는 잠재적인 지식에 대해 논의하지만, 그들이 서로를 신뢰하는 한 그 어떤 것도 중요하지 않다고 최종적으로 결정한다.\n",
    "\n",
    "대화는 전투에서 야드람-4와 레카나로 옮겨지는데, 야드람-4는 리스본-13의 충성심에 의문을 제기한다. 그러나 레카나는 리스본-13을 옹호하며, 그가 그들을 떠나지 않았다고 진술한다. 혼란 속에서, 세 수호자는 특이한 것을 듣고 그들의 유령에게 조사를 요청한다. 레카나의 유령은 갑자기 장애가 생겼고, 그녀는 리스본-13과 야드암-4에도 문제가 있다는 것을 알게 된다.\n",
    "\n",
    "그들은 동굴 더 깊은 곳에서 속삭이는 소리를 듣고 자신들의 강력한 적인 벡스를 과소평가했다는 것을 깨닫는다. 레카나는 이것을 인정하지만, 그것이 그들에게 새로운 관점을 제공했다고 믿는다. 리스본-13은 이 지역에서 벡스의 강력한 방어가 그것의 약점을 나타낸다고 추론한다. 그들이 새로운 도전에 직면할 준비를 하면서, 그들은 모두 이상한 것을 듣게 되고, 결과는 불확실해진다.\n",
    "이 글에서 야르담-4와 리스본-13은 레카나와 함께 그들의 임무와 그들이 가지고 있는 힘에 대해 논의한다. 야드암-4가 리스본-13에게 그들의 힘이 잘못된 쪽에서 왔다는 것을 설득하려고 시도하면서 긴장감이 감돌고 있지만, 리스본-13은 확신할 수 없다. 야드암-4는 리스본-13이 특출난 용기와 기술을 선보였던 과거의 임무를 회상한다. 갑자기, 그들은 그들의 머리에서 목소리를 듣고 그들의 유령을 부른다. 야드암-4의 고스트가 오작동하여 라이트와의 연결이 끊어졌다. 그들은 지치고 두들겨 맞은 기분으로 계속되고 야드암-4는 적을 과소평가했다고 말한다. 그들은 그들의 임무의 중요성과 적들의 약점에 대해 이야기한다. 그들이 알 수 없는 힘에 직면했을 때, 야르담-4는 뜻밖에도 그의 마음에서 무의식적으로 떠오르는 것 같은 생각들을 목소리로 들려준다. 그들은 그 목소리가 영웅으로 여겨지는 레카나에게서 나오고 있다는 것을 깨닫는다. 레카나에 대한 리스본-13의 신뢰는 의문시되지만 그는 그녀를 안심시킨다. 그들이 위험에 직면하자 리스본-13의 유령 피리는 그녀의 목숨을 살려달라고 애원하지만 리스본-13은 비밀을 숨기기 위해 그녀를 죽이는 것을 고려한다. 하지만 그는 결국 자신이 가진 권력의 부담을 깨닫고 이를 반대하기로 결정한다. 리스본-13은 그의 그림자-자신과 마주하고 누군가를 잊기를 요청하는데, 그의 그림자-자신은 동의한다.\n",
    "\"\"\""
   ]
  },
  {
   "cell_type": "code",
   "execution_count": 64,
   "metadata": {},
   "outputs": [],
   "source": [
    "text_before = ''\n",
    "for i in range(len(df)):\n",
    "    text_before += df.iloc[i,1]"
   ]
  },
  {
   "cell_type": "code",
   "execution_count": 65,
   "metadata": {},
   "outputs": [
    {
     "data": {
      "text/plain": [
       "'Lisbon-13 and his team, including Rekkana and Yardarm-4, have been separated to ensure uninterrupted time for Rekkana to confer with the Senior Sybil. The Vanguard has discovered that their order, as predicted by Osiris, persists. The team\\'s mission is to find knowledge about the origin of the Black Garden at a place called the Tree. However, there is a dangerous object or relic important to the Vex in the Black Garden that poses a threat to Rekkana. Despite the uncertainty, they embark on the mission.\\n\\nYardarm-4 and his Ghost discuss their roles within the team, symbolizing Yardarm-4 as the sails and Lisbon-13 as the rudder. They talk about the importance of teamwork and how Lisbon-13\\'s presence is crucial for their direction and guidance. Meanwhile, Lisbon-13 contemplates the significance of their current mission, feeling that their newfound powers come from the wrong side. Rekkana, however, appears conflicted but determined, reminiscing about a past event where Lisbon-13 displayed great courage and skill.\\n\\nAs the team progresses, Lisbon-13 confronts Yardarm-4 and Rekkana about their changed mission and expresses his doubts. Rekkana seems uncertain, yielding an intense discussion about the nature of their powers and where they come from. Yardarm-4 tries to convince Lisbon-13 that they are doing something extraordinary and impactful, likening it to a previous battle they fought together. Lisbon-13 remains skeptical but implies that they will proceed regardless.\\n\\nIn a later encounter, Lisbon-13 engages in a fight with an unidentified foe, reflecting on his desires and the consequences of accepting something offered to him. While his Ghost detects no complex life forms, they experience mysterious phenomena in the grotto, making Lisbon-13 curious and prepared to communicate with whatever presence or entity is responsible.\\n\\nAs they leave the grotto, Lisbon-13 notices Rekkana\\'s fatigue and diminished confidence due to underestimating the Vex\\'s defenses. Yardarm-4 questions the worth of risking their lives for perspective, but Lisbon-13 realizes that the Vex\\'s vigorous resistance implies the significance of their mission. They come to believe that the Black Garden may be a weakness for the Vex, which strengthens their resolve.\\n\\nIn the end, a voice speaks the word \"weakness\" multiple times, catching the attention of the team. Their discussion about weaknesses and strengths is interrupted, leaving them to face an uncertain but significant challenge ahead.In this text, Lisbon-13 expresses doubt and skepticism about their current mission. Rekkana tries to reassure him, but Lisbon-13 believes that the powers they\\'ve been given come from the wrong side. Yardarm-14 recounts a previous heroic act by Lisbon-13, comparing it to their current situation, where they feel like they are going against the odds. Lisbon-13 remains silent, seeming affected by the story.\\n\\nRekkana recognizes Lisbon-13\\'s lack of trust in her, but she asserts that she trusts him, and that is enough for her. They reflect on their dangerous lives and the chaos they face. They discuss their mission and the potential knowledge that Rekkana may possess about the Black Garden, but they ultimately decide that none of it matters as long as they trust each other.\\n\\nThe conversation shifts to Yardarm-4 and Rekkana in a battle, where Yardarm-4 questions Lisbon-13\\'s loyalty. However, Rekkana defends Lisbon-13, stating that he hasn\\'t left them. Amidst the chaos, the three Guardians hear something unusual and call upon their Ghosts to investigate. Rekkana\\'s Ghost is suddenly disabled, and she finds that Lisbon-13 and Yardarm-4 are also having issues.\\n\\nThey hear a whisper from deeper in the grotto and realize that they underestimated the Vex, their formidable opponent. Rekkana admits to this, but believes that it has provided them with a new perspective. Lisbon-13 deduces that the Vex\\'s intense defenses in this area indicate its weakness. As they prepare to face a new challenge, they all hear something strange, leaving the outcome uncertain.In this text, Yardarm-4 and Lisbon-13, along with Rekkana, discuss their mission and the powers they possess. There is tension as Yardarm-4 tries to convince Lisbon-13 that their powers come from the wrong side, but Lisbon-13 is unsure. Yardarm-4 reminisces about a past mission where Lisbon-13 displayed exceptional bravery and skill. Suddenly, they hear a voice in their heads and call for their Ghosts. Yardarm-4\\'s Ghost malfunctions, causing him to lose his connection to the Light. They continue on, feeling exhausted and battered, and Yardarm-4 remarks that they underestimated their enemies. They discuss the importance of their mission and the weaknesses of their enemies. As they confront unknown forces, Yardarm-4 unexpectedly voices thoughts that seemingly emerge involuntarily from his mind. They realize the voice is coming from Rekkana, who is viewed as a hero. Lisbon-13\\'s trust in Rekkana is questioned but he reassures her. As they face danger, Lisbon-13\\'s Ghost, Piri, pleads for her life, but Lisbon-13 contemplates killing her to keep a secret hidden. However, he ultimately decides against it, realizing the burden of the power he possesses. Lisbon-13 confronts his shadow-self and asks to forget someone, to which his shadow-self agrees.Summary of Lisbon-13:\\n\\nChalco Yong leads a team, including Lisbon-13 and Fenchurch, to a mysterious site on the seafloor of Titan. They discover the remains of Oryx, the Taken King, and realize that the Lucent Brood had attempted to resurrect Oryx using Hive necromancy. The body still exhibits signs of Taken energy and Darkness. Chalco orders the site quarantined and the body to be exhumed for further analysis. The team is warned to keep their findings confidential. Throughout their exploration, they encounter disorienting phenomena and strange memories. They are the only known team to have visited this site.A compact Eliksni submersible descends through the depths of Titan\\'s methane ocean, revealing a landscape of twisting coral. Fenchurch, Chalco, and Lisbon-13 emerge from the submersible and activate a spire that creates a regulated water pressure field. Drones are released to explore the area, revealing a vertical flicker resembling the water\\'s surface. The team follows their leader, Chalco, and discovers the remains of Oryx, the Taken King. Chalco explains that the Lucent Brood attempted to resurrect Oryx using Hive necromancy and a Hive Ghost but were disrupted. The body is still active, infused with Taken energy and Darkness. The team plans to bring back samples for analysis and quarantine the site. Fenchurch questions if they are the first team to visit, and Chalco reveals they are the only known team to have been there.'"
      ]
     },
     "execution_count": 65,
     "metadata": {},
     "output_type": "execute_result"
    }
   ],
   "source": [
    "text_before"
   ]
  },
  {
   "cell_type": "code",
   "execution_count": 66,
   "metadata": {},
   "outputs": [],
   "source": [
    "new_df = pd.DataFrame({'character':['Lisbon-13'],\n",
    "                           'summary':[text_before],\n",
    "                           'translate':[text_translate]})"
   ]
  },
  {
   "cell_type": "code",
   "execution_count": 67,
   "metadata": {},
   "outputs": [
    {
     "data": {
      "text/html": [
       "<div>\n",
       "<style scoped>\n",
       "    .dataframe tbody tr th:only-of-type {\n",
       "        vertical-align: middle;\n",
       "    }\n",
       "\n",
       "    .dataframe tbody tr th {\n",
       "        vertical-align: top;\n",
       "    }\n",
       "\n",
       "    .dataframe thead th {\n",
       "        text-align: right;\n",
       "    }\n",
       "</style>\n",
       "<table border=\"1\" class=\"dataframe\">\n",
       "  <thead>\n",
       "    <tr style=\"text-align: right;\">\n",
       "      <th></th>\n",
       "      <th>character</th>\n",
       "      <th>summary</th>\n",
       "      <th>translate</th>\n",
       "    </tr>\n",
       "  </thead>\n",
       "  <tbody>\n",
       "    <tr>\n",
       "      <th>0</th>\n",
       "      <td>Lisbon-13</td>\n",
       "      <td>Lisbon-13 and his team, including Rekkana and ...</td>\n",
       "      <td>\\n 리스본-13과 레카나와 야르담-4를 포함한 그의 팀은 레카나가 시니어 시빌과 ...</td>\n",
       "    </tr>\n",
       "  </tbody>\n",
       "</table>\n",
       "</div>"
      ],
      "text/plain": [
       "   character                                            summary  \\\n",
       "0  Lisbon-13  Lisbon-13 and his team, including Rekkana and ...   \n",
       "\n",
       "                                           translate  \n",
       "0  \\n 리스본-13과 레카나와 야르담-4를 포함한 그의 팀은 레카나가 시니어 시빌과 ...  "
      ]
     },
     "execution_count": 67,
     "metadata": {},
     "output_type": "execute_result"
    }
   ],
   "source": [
    "new_df"
   ]
  },
  {
   "cell_type": "code",
   "execution_count": 68,
   "metadata": {},
   "outputs": [],
   "source": [
    "new_df.to_json('./Database/fin_output.json',orient='records')"
   ]
  },
  {
   "cell_type": "code",
   "execution_count": 50,
   "metadata": {},
   "outputs": [
    {
     "ename": "HTTPError",
     "evalue": "HTTP Error 400: Bad Request",
     "output_type": "error",
     "traceback": [
      "\u001b[1;31m---------------------------------------------------------------------------\u001b[0m",
      "\u001b[1;31mHTTPError\u001b[0m                                 Traceback (most recent call last)",
      "Cell \u001b[1;32mIn[50], line 1\u001b[0m\n\u001b[1;32m----> 1\u001b[0m translate_text(text)\n",
      "Cell \u001b[1;32mIn[38], line 11\u001b[0m, in \u001b[0;36mtranslate_text\u001b[1;34m(text)\u001b[0m\n\u001b[0;32m      9\u001b[0m request\u001b[39m.\u001b[39madd_header(\u001b[39m\"\u001b[39m\u001b[39mX-Naver-Client-Id\u001b[39m\u001b[39m\"\u001b[39m,client_id)\n\u001b[0;32m     10\u001b[0m request\u001b[39m.\u001b[39madd_header(\u001b[39m\"\u001b[39m\u001b[39mX-Naver-Client-Secret\u001b[39m\u001b[39m\"\u001b[39m,client_secret)\n\u001b[1;32m---> 11\u001b[0m response \u001b[39m=\u001b[39m urllib\u001b[39m.\u001b[39;49mrequest\u001b[39m.\u001b[39;49murlopen(request, data\u001b[39m=\u001b[39;49mdata\u001b[39m.\u001b[39;49mencode(\u001b[39m\"\u001b[39;49m\u001b[39mutf-8\u001b[39;49m\u001b[39m\"\u001b[39;49m))\n\u001b[0;32m     12\u001b[0m rescode \u001b[39m=\u001b[39m response\u001b[39m.\u001b[39mgetcode()\n\u001b[0;32m     13\u001b[0m \u001b[39mif\u001b[39;00m(rescode\u001b[39m==\u001b[39m\u001b[39m200\u001b[39m):\n",
      "File \u001b[1;32mc:\\Users\\hyun9\\anaconda3\\envs\\py3.8\\lib\\urllib\\request.py:222\u001b[0m, in \u001b[0;36murlopen\u001b[1;34m(url, data, timeout, cafile, capath, cadefault, context)\u001b[0m\n\u001b[0;32m    220\u001b[0m \u001b[39melse\u001b[39;00m:\n\u001b[0;32m    221\u001b[0m     opener \u001b[39m=\u001b[39m _opener\n\u001b[1;32m--> 222\u001b[0m \u001b[39mreturn\u001b[39;00m opener\u001b[39m.\u001b[39;49mopen(url, data, timeout)\n",
      "File \u001b[1;32mc:\\Users\\hyun9\\anaconda3\\envs\\py3.8\\lib\\urllib\\request.py:531\u001b[0m, in \u001b[0;36mOpenerDirector.open\u001b[1;34m(self, fullurl, data, timeout)\u001b[0m\n\u001b[0;32m    529\u001b[0m \u001b[39mfor\u001b[39;00m processor \u001b[39min\u001b[39;00m \u001b[39mself\u001b[39m\u001b[39m.\u001b[39mprocess_response\u001b[39m.\u001b[39mget(protocol, []):\n\u001b[0;32m    530\u001b[0m     meth \u001b[39m=\u001b[39m \u001b[39mgetattr\u001b[39m(processor, meth_name)\n\u001b[1;32m--> 531\u001b[0m     response \u001b[39m=\u001b[39m meth(req, response)\n\u001b[0;32m    533\u001b[0m \u001b[39mreturn\u001b[39;00m response\n",
      "File \u001b[1;32mc:\\Users\\hyun9\\anaconda3\\envs\\py3.8\\lib\\urllib\\request.py:640\u001b[0m, in \u001b[0;36mHTTPErrorProcessor.http_response\u001b[1;34m(self, request, response)\u001b[0m\n\u001b[0;32m    637\u001b[0m \u001b[39m# According to RFC 2616, \"2xx\" code indicates that the client's\u001b[39;00m\n\u001b[0;32m    638\u001b[0m \u001b[39m# request was successfully received, understood, and accepted.\u001b[39;00m\n\u001b[0;32m    639\u001b[0m \u001b[39mif\u001b[39;00m \u001b[39mnot\u001b[39;00m (\u001b[39m200\u001b[39m \u001b[39m<\u001b[39m\u001b[39m=\u001b[39m code \u001b[39m<\u001b[39m \u001b[39m300\u001b[39m):\n\u001b[1;32m--> 640\u001b[0m     response \u001b[39m=\u001b[39m \u001b[39mself\u001b[39;49m\u001b[39m.\u001b[39;49mparent\u001b[39m.\u001b[39;49merror(\n\u001b[0;32m    641\u001b[0m         \u001b[39m'\u001b[39;49m\u001b[39mhttp\u001b[39;49m\u001b[39m'\u001b[39;49m, request, response, code, msg, hdrs)\n\u001b[0;32m    643\u001b[0m \u001b[39mreturn\u001b[39;00m response\n",
      "File \u001b[1;32mc:\\Users\\hyun9\\anaconda3\\envs\\py3.8\\lib\\urllib\\request.py:569\u001b[0m, in \u001b[0;36mOpenerDirector.error\u001b[1;34m(self, proto, *args)\u001b[0m\n\u001b[0;32m    567\u001b[0m \u001b[39mif\u001b[39;00m http_err:\n\u001b[0;32m    568\u001b[0m     args \u001b[39m=\u001b[39m (\u001b[39mdict\u001b[39m, \u001b[39m'\u001b[39m\u001b[39mdefault\u001b[39m\u001b[39m'\u001b[39m, \u001b[39m'\u001b[39m\u001b[39mhttp_error_default\u001b[39m\u001b[39m'\u001b[39m) \u001b[39m+\u001b[39m orig_args\n\u001b[1;32m--> 569\u001b[0m     \u001b[39mreturn\u001b[39;00m \u001b[39mself\u001b[39;49m\u001b[39m.\u001b[39;49m_call_chain(\u001b[39m*\u001b[39;49margs)\n",
      "File \u001b[1;32mc:\\Users\\hyun9\\anaconda3\\envs\\py3.8\\lib\\urllib\\request.py:502\u001b[0m, in \u001b[0;36mOpenerDirector._call_chain\u001b[1;34m(self, chain, kind, meth_name, *args)\u001b[0m\n\u001b[0;32m    500\u001b[0m \u001b[39mfor\u001b[39;00m handler \u001b[39min\u001b[39;00m handlers:\n\u001b[0;32m    501\u001b[0m     func \u001b[39m=\u001b[39m \u001b[39mgetattr\u001b[39m(handler, meth_name)\n\u001b[1;32m--> 502\u001b[0m     result \u001b[39m=\u001b[39m func(\u001b[39m*\u001b[39;49margs)\n\u001b[0;32m    503\u001b[0m     \u001b[39mif\u001b[39;00m result \u001b[39mis\u001b[39;00m \u001b[39mnot\u001b[39;00m \u001b[39mNone\u001b[39;00m:\n\u001b[0;32m    504\u001b[0m         \u001b[39mreturn\u001b[39;00m result\n",
      "File \u001b[1;32mc:\\Users\\hyun9\\anaconda3\\envs\\py3.8\\lib\\urllib\\request.py:649\u001b[0m, in \u001b[0;36mHTTPDefaultErrorHandler.http_error_default\u001b[1;34m(self, req, fp, code, msg, hdrs)\u001b[0m\n\u001b[0;32m    648\u001b[0m \u001b[39mdef\u001b[39;00m \u001b[39mhttp_error_default\u001b[39m(\u001b[39mself\u001b[39m, req, fp, code, msg, hdrs):\n\u001b[1;32m--> 649\u001b[0m     \u001b[39mraise\u001b[39;00m HTTPError(req\u001b[39m.\u001b[39mfull_url, code, msg, hdrs, fp)\n",
      "\u001b[1;31mHTTPError\u001b[0m: HTTP Error 400: Bad Request"
     ]
    }
   ],
   "source": [
    "translate_text(text)"
   ]
  },
  {
   "cell_type": "code",
   "execution_count": null,
   "metadata": {},
   "outputs": [],
   "source": []
  }
 ],
 "metadata": {
  "kernelspec": {
   "display_name": "py3.8",
   "language": "python",
   "name": "python3"
  },
  "language_info": {
   "codemirror_mode": {
    "name": "ipython",
    "version": 3
   },
   "file_extension": ".py",
   "mimetype": "text/x-python",
   "name": "python",
   "nbconvert_exporter": "python",
   "pygments_lexer": "ipython3",
   "version": "3.8.16"
  },
  "orig_nbformat": 4
 },
 "nbformat": 4,
 "nbformat_minor": 2
}
