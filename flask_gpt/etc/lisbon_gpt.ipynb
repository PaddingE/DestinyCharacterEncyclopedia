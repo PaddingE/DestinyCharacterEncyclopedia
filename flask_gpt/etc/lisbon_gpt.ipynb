{
 "cells": [
  {
   "cell_type": "code",
   "execution_count": 1,
   "metadata": {},
   "outputs": [],
   "source": [
    "import subclass as sc\n",
    "import pandas as pd\n",
    "\n",
    "pp = sc.Preprocessing('./Database/all_date_timestamp.json')\n",
    "output = sc.Subclass()"
   ]
  },
  {
   "cell_type": "code",
   "execution_count": 2,
   "metadata": {},
   "outputs": [
    {
     "name": "stdout",
     "output_type": "stream",
     "text": [
      "시작\n",
      "종료, 총 걸린 시간: 53.0753710269928\n"
     ]
    }
   ],
   "source": [
    "character = 'Lisbon-13'\n",
    "\n",
    "df, name = pp.search_character(character)\n",
    "\n",
    "list_output = output.make_output(df,name)"
   ]
  },
  {
   "cell_type": "code",
   "execution_count": 3,
   "metadata": {},
   "outputs": [],
   "source": [
    "full_text = ''\n",
    "\n",
    "for text in list_output:\n",
    "    full_text += text"
   ]
  },
  {
   "cell_type": "code",
   "execution_count": 4,
   "metadata": {},
   "outputs": [
    {
     "data": {
      "text/plain": [
       "'Lisbon-13 and his team, including Rekkana and Yardarm-4, have been separated to ensure uninterrupted time for Rekkana to confer with the Senior Sybil. The Vanguard has discovered that their order, as predicted by Osiris, persists. The team\\'s mission is to find knowledge about the origin of the Black Garden at a place called the Tree. However, there is a dangerous object or relic important to the Vex in the Black Garden that poses a threat to Rekkana. Despite the uncertainty, they embark on the mission.\\n\\nYardarm-4 and his Ghost discuss their roles within the team, symbolizing Yardarm-4 as the sails and Lisbon-13 as the rudder. They talk about the importance of teamwork and how Lisbon-13\\'s presence is crucial for their direction and guidance. Meanwhile, Lisbon-13 contemplates the significance of their current mission, feeling that their newfound powers come from the wrong side. Rekkana, however, appears conflicted but determined, reminiscing about a past event where Lisbon-13 displayed great courage and skill.\\n\\nAs the team progresses, Lisbon-13 confronts Yardarm-4 and Rekkana about their changed mission and expresses his doubts. Rekkana seems uncertain, yielding an intense discussion about the nature of their powers and where they come from. Yardarm-4 tries to convince Lisbon-13 that they are doing something extraordinary and impactful, likening it to a previous battle they fought together. Lisbon-13 remains skeptical but implies that they will proceed regardless.\\n\\nIn a later encounter, Lisbon-13 engages in a fight with an unidentified foe, reflecting on his desires and the consequences of accepting something offered to him. While his Ghost detects no complex life forms, they experience mysterious phenomena in the grotto, making Lisbon-13 curious and prepared to communicate with whatever presence or entity is responsible.\\n\\nAs they leave the grotto, Lisbon-13 notices Rekkana\\'s fatigue and diminished confidence due to underestimating the Vex\\'s defenses. Yardarm-4 questions the worth of risking their lives for perspective, but Lisbon-13 realizes that the Vex\\'s vigorous resistance implies the significance of their mission. They come to believe that the Black Garden may be a weakness for the Vex, which strengthens their resolve.\\n\\nIn the end, a voice speaks the word \"weakness\" multiple times, catching the attention of the team. Their discussion about weaknesses and strengths is interrupted, leaving them to face an uncertain but significant challenge ahead.In this text, Lisbon-13 expresses doubt and skepticism about their current mission. Rekkana tries to reassure him, but Lisbon-13 believes that the powers they\\'ve been given come from the wrong side. Yardarm-14 recounts a previous heroic act by Lisbon-13, comparing it to their current situation, where they feel like they are going against the odds. Lisbon-13 remains silent, seeming affected by the story.\\n\\nRekkana recognizes Lisbon-13\\'s lack of trust in her, but she asserts that she trusts him, and that is enough for her. They reflect on their dangerous lives and the chaos they face. They discuss their mission and the potential knowledge that Rekkana may possess about the Black Garden, but they ultimately decide that none of it matters as long as they trust each other.\\n\\nThe conversation shifts to Yardarm-4 and Rekkana in a battle, where Yardarm-4 questions Lisbon-13\\'s loyalty. However, Rekkana defends Lisbon-13, stating that he hasn\\'t left them. Amidst the chaos, the three Guardians hear something unusual and call upon their Ghosts to investigate. Rekkana\\'s Ghost is suddenly disabled, and she finds that Lisbon-13 and Yardarm-4 are also having issues.\\n\\nThey hear a whisper from deeper in the grotto and realize that they underestimated the Vex, their formidable opponent. Rekkana admits to this, but believes that it has provided them with a new perspective. Lisbon-13 deduces that the Vex\\'s intense defenses in this area indicate its weakness. As they prepare to face a new challenge, they all hear something strange, leaving the outcome uncertain.In this text, Yardarm-4 and Lisbon-13, along with Rekkana, discuss their mission and the powers they possess. There is tension as Yardarm-4 tries to convince Lisbon-13 that their powers come from the wrong side, but Lisbon-13 is unsure. Yardarm-4 reminisces about a past mission where Lisbon-13 displayed exceptional bravery and skill. Suddenly, they hear a voice in their heads and call for their Ghosts. Yardarm-4\\'s Ghost malfunctions, causing him to lose his connection to the Light. They continue on, feeling exhausted and battered, and Yardarm-4 remarks that they underestimated their enemies. They discuss the importance of their mission and the weaknesses of their enemies. As they confront unknown forces, Yardarm-4 unexpectedly voices thoughts that seemingly emerge involuntarily from his mind. They realize the voice is coming from Rekkana, who is viewed as a hero. Lisbon-13\\'s trust in Rekkana is questioned but he reassures her. As they face danger, Lisbon-13\\'s Ghost, Piri, pleads for her life, but Lisbon-13 contemplates killing her to keep a secret hidden. However, he ultimately decides against it, realizing the burden of the power he possesses. Lisbon-13 confronts his shadow-self and asks to forget someone, to which his shadow-self agrees.Summary of Lisbon-13:\\n\\nChalco Yong leads a team, including Lisbon-13 and Fenchurch, to a mysterious site on the seafloor of Titan. They discover the remains of Oryx, the Taken King, and realize that the Lucent Brood had attempted to resurrect Oryx using Hive necromancy. The body still exhibits signs of Taken energy and Darkness. Chalco orders the site quarantined and the body to be exhumed for further analysis. The team is warned to keep their findings confidential. Throughout their exploration, they encounter disorienting phenomena and strange memories. They are the only known team to have visited this site.A compact Eliksni submersible descends through the depths of Titan\\'s methane ocean, revealing a landscape of twisting coral. Fenchurch, Chalco, and Lisbon-13 emerge from the submersible and activate a spire that creates a regulated water pressure field. Drones are released to explore the area, revealing a vertical flicker resembling the water\\'s surface. The team follows their leader, Chalco, and discovers the remains of Oryx, the Taken King. Chalco explains that the Lucent Brood attempted to resurrect Oryx using Hive necromancy and a Hive Ghost but were disrupted. The body is still active, infused with Taken energy and Darkness. The team plans to bring back samples for analysis and quarantine the site. Fenchurch questions if they are the first team to visit, and Chalco reveals they are the only known team to have been there.'"
      ]
     },
     "execution_count": 4,
     "metadata": {},
     "output_type": "execute_result"
    }
   ],
   "source": [
    "full_text"
   ]
  },
  {
   "cell_type": "code",
   "execution_count": 8,
   "metadata": {},
   "outputs": [],
   "source": [
    "df_summary = pd.DataFrame({'character': [character] * len(list_output),\n",
    "                           'summary': list_output})\n",
    "\n",
    "df_summary.to_json('./Database/lisbon_gpt_summary.json', orient='records')"
   ]
  },
  {
   "cell_type": "code",
   "execution_count": 9,
   "metadata": {},
   "outputs": [
    {
     "data": {
      "text/html": [
       "<div>\n",
       "<style scoped>\n",
       "    .dataframe tbody tr th:only-of-type {\n",
       "        vertical-align: middle;\n",
       "    }\n",
       "\n",
       "    .dataframe tbody tr th {\n",
       "        vertical-align: top;\n",
       "    }\n",
       "\n",
       "    .dataframe thead th {\n",
       "        text-align: right;\n",
       "    }\n",
       "</style>\n",
       "<table border=\"1\" class=\"dataframe\">\n",
       "  <thead>\n",
       "    <tr style=\"text-align: right;\">\n",
       "      <th></th>\n",
       "      <th>character</th>\n",
       "      <th>summary</th>\n",
       "    </tr>\n",
       "  </thead>\n",
       "  <tbody>\n",
       "    <tr>\n",
       "      <th>0</th>\n",
       "      <td>Lisbon-13</td>\n",
       "      <td>Lisbon-13 and his team, including Rekkana and ...</td>\n",
       "    </tr>\n",
       "    <tr>\n",
       "      <th>1</th>\n",
       "      <td>Lisbon-13</td>\n",
       "      <td>In this text, Lisbon-13 expresses doubt and sk...</td>\n",
       "    </tr>\n",
       "    <tr>\n",
       "      <th>2</th>\n",
       "      <td>Lisbon-13</td>\n",
       "      <td>In this text, Yardarm-4 and Lisbon-13, along w...</td>\n",
       "    </tr>\n",
       "    <tr>\n",
       "      <th>3</th>\n",
       "      <td>Lisbon-13</td>\n",
       "      <td>Summary of Lisbon-13:\\n\\nChalco Yong leads a t...</td>\n",
       "    </tr>\n",
       "    <tr>\n",
       "      <th>4</th>\n",
       "      <td>Lisbon-13</td>\n",
       "      <td>A compact Eliksni submersible descends through...</td>\n",
       "    </tr>\n",
       "  </tbody>\n",
       "</table>\n",
       "</div>"
      ],
      "text/plain": [
       "   character                                            summary\n",
       "0  Lisbon-13  Lisbon-13 and his team, including Rekkana and ...\n",
       "1  Lisbon-13  In this text, Lisbon-13 expresses doubt and sk...\n",
       "2  Lisbon-13  In this text, Yardarm-4 and Lisbon-13, along w...\n",
       "3  Lisbon-13  Summary of Lisbon-13:\\n\\nChalco Yong leads a t...\n",
       "4  Lisbon-13  A compact Eliksni submersible descends through..."
      ]
     },
     "execution_count": 9,
     "metadata": {},
     "output_type": "execute_result"
    }
   ],
   "source": [
    "df_summary"
   ]
  }
 ],
 "metadata": {
  "kernelspec": {
   "display_name": "py3.8",
   "language": "python",
   "name": "python3"
  },
  "language_info": {
   "codemirror_mode": {
    "name": "ipython",
    "version": 3
   },
   "file_extension": ".py",
   "mimetype": "text/x-python",
   "name": "python",
   "nbconvert_exporter": "python",
   "pygments_lexer": "ipython3",
   "version": "3.8.16"
  },
  "orig_nbformat": 4
 },
 "nbformat": 4,
 "nbformat_minor": 2
}
