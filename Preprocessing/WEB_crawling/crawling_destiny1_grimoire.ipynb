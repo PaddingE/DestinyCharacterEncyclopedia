{
 "cells": [
  {
   "cell_type": "code",
   "execution_count": 25,
   "metadata": {},
   "outputs": [],
   "source": [
    "from urllib.request import urlopen\n",
    "from bs4 import BeautifulSoup\n",
    "import pandas as pd\n",
    "import re"
   ]
  },
  {
   "cell_type": "code",
   "execution_count": 26,
   "metadata": {},
   "outputs": [],
   "source": [
    "url_grimoire_root = 'https://www.destinypedia.com/Grimoire'\n",
    "\n",
    "html = urlopen(url_grimoire_root)\n",
    "bs = BeautifulSoup(html, 'html.parser')"
   ]
  },
  {
   "cell_type": "code",
   "execution_count": 27,
   "metadata": {},
   "outputs": [],
   "source": [
    "list_gallary_text = bs.findAll('div',{'class': 'gallerytext'})"
   ]
  },
  {
   "cell_type": "code",
   "execution_count": 28,
   "metadata": {},
   "outputs": [],
   "source": [
    "list_gallary_title = []\n",
    "for gallary_text in list_gallary_text:\n",
    "    gallary_text_re = re.sub(r'\\n','', gallary_text.text)\n",
    "    list_gallary_title.append(gallary_text_re)"
   ]
  },
  {
   "cell_type": "code",
   "execution_count": 29,
   "metadata": {},
   "outputs": [
    {
     "data": {
      "text/plain": [
       "['Guardian', 'Inventory', 'Allies', 'Enemies', 'Places', 'Activities']"
      ]
     },
     "execution_count": 29,
     "metadata": {},
     "output_type": "execute_result"
    }
   ],
   "source": [
    "list_gallary_title"
   ]
  },
  {
   "cell_type": "code",
   "execution_count": 32,
   "metadata": {},
   "outputs": [],
   "source": [
    "list_section_df = []\n",
    "list_title_df = []\n",
    "list_subtitle_df = []\n",
    "list_text_df = []\n",
    "\n",
    "for i in range(len(list_gallary_title)):\n",
    "    url_section = url_grimoire_root + ':' + list_gallary_title[i]\n",
    "    section_html = urlopen(url_section)\n",
    "    bs_section = BeautifulSoup(section_html, 'html.parser')\n",
    "    \n",
    "    list_title_text = bs_section.findAll('div',{'class': 'gallerytext'})\n",
    "    \n",
    "    list_title = []\n",
    "    \n",
    "    for title in list_title_text:\n",
    "        title_text_re = re.sub(r'\\n','', title.text)\n",
    "        list_title.append(title_text_re)\n",
    "        \n",
    "    for j in range(len(list_title)):\n",
    "        list_title[j] = re.sub(\"'\",'%27',list_title[j])\n",
    "        list_title[j] = re.sub(\"&\",'%26',list_title[j])\n",
    "        list_title[j] = re.sub(\" \",'_',list_title[j])\n",
    "        \n",
    "        url_title = url_section + '/' + list_title[j]\n",
    "        title_html = urlopen(url_title)\n",
    "        bs_title = BeautifulSoup(title_html,'html.parser')\n",
    "        \n",
    "        select = bs_title.select_one('.mw-parser-output')\n",
    "\n",
    "        flag = False\n",
    "        \n",
    "        text = ''\n",
    "\n",
    "        for child in select:\n",
    "            if child.name == 'h2':\n",
    "            \n",
    "                if flag == True:\n",
    "                    list_text_df.append(text)\n",
    "                    text = ''\n",
    "            \n",
    "                list_subtitle_df.append(child.text)\n",
    "                list_title_df.append(list_title[j])\n",
    "                list_section_df.append(list_gallary_title[i])\n",
    "                flag = True\n",
    "        \n",
    "            elif flag == True and (child.name == 'p' or child.name == 'dl'):\n",
    "                text += child.text\n",
    "        \n",
    "        list_text_df.append(text)\n",
    "        \n",
    "        list_title_df[j] = re.sub(\"%27\",\"'\",list_title_df[j])\n",
    "        list_title_df[j] = re.sub(\"%26\",'&',list_title_df[j])\n",
    "        list_title_df[j] = re.sub(\"_\",' ',list_title_df[j])\n",
    "        \n",
    "        "
   ]
  },
  {
   "cell_type": "code",
   "execution_count": 34,
   "metadata": {},
   "outputs": [],
   "source": [
    "df_grimoire = pd.DataFrame({'section': list_section_df, 'title':list_title_df, 'sub_title':list_subtitle_df, 'text': list_text_df})"
   ]
  },
  {
   "cell_type": "code",
   "execution_count": 35,
   "metadata": {},
   "outputs": [
    {
     "data": {
      "text/html": [
       "<div>\n",
       "<style scoped>\n",
       "    .dataframe tbody tr th:only-of-type {\n",
       "        vertical-align: middle;\n",
       "    }\n",
       "\n",
       "    .dataframe tbody tr th {\n",
       "        vertical-align: top;\n",
       "    }\n",
       "\n",
       "    .dataframe thead th {\n",
       "        text-align: right;\n",
       "    }\n",
       "</style>\n",
       "<table border=\"1\" class=\"dataframe\">\n",
       "  <thead>\n",
       "    <tr style=\"text-align: right;\">\n",
       "      <th></th>\n",
       "      <th>section</th>\n",
       "      <th>title</th>\n",
       "      <th>sub_title</th>\n",
       "      <th>text</th>\n",
       "    </tr>\n",
       "  </thead>\n",
       "  <tbody>\n",
       "    <tr>\n",
       "      <th>0</th>\n",
       "      <td>Guardian</td>\n",
       "      <td>Classes</td>\n",
       "      <td>Guardians</td>\n",
       "      <td>\\n\"Legends are carved into history by the brav...</td>\n",
       "    </tr>\n",
       "    <tr>\n",
       "      <th>1</th>\n",
       "      <td>Guardian</td>\n",
       "      <td>Classes</td>\n",
       "      <td>Class: Hunter</td>\n",
       "      <td>\\n\"Our old worlds have grown feral—rabid beast...</td>\n",
       "    </tr>\n",
       "    <tr>\n",
       "      <th>2</th>\n",
       "      <td>Guardian</td>\n",
       "      <td>Classes</td>\n",
       "      <td>Ghost Fragment: Hunter</td>\n",
       "      <td>She leaves the Sparrow and climbs a long way a...</td>\n",
       "    </tr>\n",
       "    <tr>\n",
       "      <th>3</th>\n",
       "      <td>Guardian</td>\n",
       "      <td>Classes</td>\n",
       "      <td>Class: Titan</td>\n",
       "      <td>\\n\"Stand. Not only to fight, but to strive. Fo...</td>\n",
       "    </tr>\n",
       "    <tr>\n",
       "      <th>4</th>\n",
       "      <td>Guardian</td>\n",
       "      <td>Classes</td>\n",
       "      <td>Ghost Fragment: Titan</td>\n",
       "      <td>/ Tighten that strap.\\n/ Eh?\\n/ The gardbrace ...</td>\n",
       "    </tr>\n",
       "    <tr>\n",
       "      <th>...</th>\n",
       "      <td>...</td>\n",
       "      <td>...</td>\n",
       "      <td>...</td>\n",
       "      <td>...</td>\n",
       "    </tr>\n",
       "    <tr>\n",
       "      <th>834</th>\n",
       "      <td>Activities</td>\n",
       "      <td>Other_Activities</td>\n",
       "      <td>Festival of the Lost: Underwatch</td>\n",
       "      <td>\"Eri-i-i-is. Oh, Eri-i-i-is.\"\\n\"Do you have my...</td>\n",
       "    </tr>\n",
       "    <tr>\n",
       "      <th>835</th>\n",
       "      <td>Activities</td>\n",
       "      <td>Other_Activities</td>\n",
       "      <td>The Dawning</td>\n",
       "      <td>“Pass me those lanterns, would you?” Eva said....</td>\n",
       "    </tr>\n",
       "    <tr>\n",
       "      <th>836</th>\n",
       "      <td>Activities</td>\n",
       "      <td>Other_Activities</td>\n",
       "      <td>Dawning Fortunes</td>\n",
       "      <td>Fortune telling at the start of a new year is ...</td>\n",
       "    </tr>\n",
       "    <tr>\n",
       "      <th>837</th>\n",
       "      <td>Activities</td>\n",
       "      <td>Other_Activities</td>\n",
       "      <td>Haakon Precipice</td>\n",
       "      <td>\"Hey! Who left this forklift in the middle of ...</td>\n",
       "    </tr>\n",
       "    <tr>\n",
       "      <th>838</th>\n",
       "      <td>Activities</td>\n",
       "      <td>Other_Activities</td>\n",
       "      <td>Shining Sands</td>\n",
       "      <td>\"OK. I’ve been hearing a rumor that a racer we...</td>\n",
       "    </tr>\n",
       "  </tbody>\n",
       "</table>\n",
       "<p>839 rows × 4 columns</p>\n",
       "</div>"
      ],
      "text/plain": [
       "        section             title                         sub_title  \\\n",
       "0      Guardian           Classes                         Guardians   \n",
       "1      Guardian           Classes                     Class: Hunter   \n",
       "2      Guardian           Classes            Ghost Fragment: Hunter   \n",
       "3      Guardian           Classes                      Class: Titan   \n",
       "4      Guardian           Classes             Ghost Fragment: Titan   \n",
       "..          ...               ...                               ...   \n",
       "834  Activities  Other_Activities  Festival of the Lost: Underwatch   \n",
       "835  Activities  Other_Activities                       The Dawning   \n",
       "836  Activities  Other_Activities                  Dawning Fortunes   \n",
       "837  Activities  Other_Activities                  Haakon Precipice   \n",
       "838  Activities  Other_Activities                     Shining Sands   \n",
       "\n",
       "                                                  text  \n",
       "0    \\n\"Legends are carved into history by the brav...  \n",
       "1    \\n\"Our old worlds have grown feral—rabid beast...  \n",
       "2    She leaves the Sparrow and climbs a long way a...  \n",
       "3    \\n\"Stand. Not only to fight, but to strive. Fo...  \n",
       "4    / Tighten that strap.\\n/ Eh?\\n/ The gardbrace ...  \n",
       "..                                                 ...  \n",
       "834  \"Eri-i-i-is. Oh, Eri-i-i-is.\"\\n\"Do you have my...  \n",
       "835  “Pass me those lanterns, would you?” Eva said....  \n",
       "836  Fortune telling at the start of a new year is ...  \n",
       "837  \"Hey! Who left this forklift in the middle of ...  \n",
       "838  \"OK. I’ve been hearing a rumor that a racer we...  \n",
       "\n",
       "[839 rows x 4 columns]"
      ]
     },
     "execution_count": 35,
     "metadata": {},
     "output_type": "execute_result"
    }
   ],
   "source": [
    "df_grimoire"
   ]
  },
  {
   "cell_type": "code",
   "execution_count": null,
   "metadata": {},
   "outputs": [],
   "source": [
    "df_grimoire.to_json('./Database/raw_grimoire.json',orient='records')"
   ]
  }
 ],
 "metadata": {
  "kernelspec": {
   "display_name": "py3.8",
   "language": "python",
   "name": "python3"
  },
  "language_info": {
   "codemirror_mode": {
    "name": "ipython",
    "version": 3
   },
   "file_extension": ".py",
   "mimetype": "text/x-python",
   "name": "python",
   "nbconvert_exporter": "python",
   "pygments_lexer": "ipython3",
   "version": "3.8.17"
  },
  "orig_nbformat": 4
 },
 "nbformat": 4,
 "nbformat_minor": 2
}
